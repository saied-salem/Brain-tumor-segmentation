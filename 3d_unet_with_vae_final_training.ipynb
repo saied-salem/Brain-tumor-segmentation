{
  "metadata": {
    "kernelspec": {
      "language": "python",
      "display_name": "Python 3",
      "name": "python3"
    },
    "language_info": {
      "pygments_lexer": "ipython3",
      "nbconvert_exporter": "python",
      "version": "3.6.4",
      "file_extension": ".py",
      "codemirror_mode": {
        "name": "ipython",
        "version": 3
      },
      "name": "python",
      "mimetype": "text/x-python"
    },
    "colab": {
      "provenance": []
    },
    "accelerator": "GPU",
    "gpuClass": "standard"
  },
  "nbformat_minor": 0,
  "nbformat": 4,
  "cells": [
    {
      "cell_type": "code",
      "source": [
        "from google.colab import drive\n",
        "drive.mount('/content/drive')"
      ],
      "metadata": {
        "colab": {
          "base_uri": "https://localhost:8080/"
        },
        "id": "8MZE1oJC9MEd",
        "outputId": "b828e503-73f6-43c4-82fb-5e6d2484a82a"
      },
      "execution_count": 2,
      "outputs": [
        {
          "output_type": "stream",
          "name": "stdout",
          "text": [
            "Mounted at /content/drive\n"
          ]
        }
      ]
    },
    {
      "cell_type": "code",
      "source": [
        "import os\n",
        "import numpy as np\n",
        "\n",
        "\n",
        "def load_img(img_dir, img_list):\n",
        "    images=[]\n",
        "    for i, image_name in enumerate(img_list):    \n",
        "        if (image_name.split('.')[1] == 'npy'):\n",
        "            \n",
        "            image = np.load(img_dir+image_name)\n",
        "                      \n",
        "            images.append(image)\n",
        "    images = np.array(images)\n",
        "    \n",
        "    return(images)\n",
        "\n",
        "\n",
        "\n",
        "\n",
        "def imageLoader(img_dir, img_list, mask_dir, mask_list, batch_size):\n",
        "\n",
        "    L = len(img_list)\n",
        "\n",
        "    #keras needs the generator infinite, so we will use while true  \n",
        "    while True:\n",
        "\n",
        "        batch_start = 0\n",
        "        batch_end = batch_size\n",
        "\n",
        "        while batch_start < L:\n",
        "            limit = min(batch_end, L)\n",
        "                       \n",
        "            X = load_img(img_dir, img_list[batch_start:limit])\n",
        "            X_new=np.moveaxis(X,-1,1)\n",
        "#             X_new= X\n",
        "            Y = load_img(mask_dir, mask_list[batch_start:limit])\n",
        "            Y_new=np.moveaxis(Y,-1,1)\n",
        "\n",
        "            yield (X_new,{'Dec_GT_Output':Y_new , 'Dec_VAE_Output':X_new} )#a tuple with two numpy arrays with batch_size samples    \n",
        "#             yield (X_new,[ Y_new , X_new] )#a tuple with two numpy arrays with batch_size samples     \n",
        "\n",
        "\n",
        "            batch_start += batch_size   \n",
        "            batch_end += batch_size\n",
        "\n",
        "############################################"
      ],
      "metadata": {
        "execution": {
          "iopub.status.busy": "2023-01-03T00:42:06.919390Z",
          "iopub.execute_input": "2023-01-03T00:42:06.919761Z",
          "iopub.status.idle": "2023-01-03T00:42:06.951659Z",
          "shell.execute_reply.started": "2023-01-03T00:42:06.919664Z",
          "shell.execute_reply": "2023-01-03T00:42:06.950779Z"
        },
        "trusted": true,
        "id": "FuJCjd1K82Wv"
      },
      "execution_count": 3,
      "outputs": []
    },
    {
      "cell_type": "code",
      "source": [
        "!pwd"
      ],
      "metadata": {
        "_uuid": "fddbbce3-43e4-4b15-928f-aca206a465c0",
        "_cell_guid": "8c98e40e-64bd-47d2-9bd7-54159ee936f3",
        "jupyter": {
          "outputs_hidden": false
        },
        "execution": {
          "iopub.status.busy": "2023-01-03T01:13:07.967411Z",
          "iopub.status.idle": "2023-01-03T01:13:07.968150Z",
          "shell.execute_reply.started": "2023-01-03T01:13:07.967903Z",
          "shell.execute_reply": "2023-01-03T01:13:07.967927Z"
        },
        "trusted": true,
        "colab": {
          "base_uri": "https://localhost:8080/"
        },
        "id": "9OpoEgOr82Ww",
        "outputId": "b8d9ae03-9b86-4ddb-e1c1-6eac6a4551be"
      },
      "execution_count": 4,
      "outputs": [
        {
          "output_type": "stream",
          "name": "stdout",
          "text": [
            "/content\n"
          ]
        }
      ]
    },
    {
      "cell_type": "code",
      "source": [
        "import os"
      ],
      "metadata": {
        "_uuid": "6e75e76e-9653-401b-a5ed-383063ed0592",
        "_cell_guid": "6fe8e0f1-997f-4a2f-9c6f-61e32a2c3d12",
        "jupyter": {
          "outputs_hidden": false
        },
        "execution": {
          "iopub.status.busy": "2023-01-03T01:13:07.969560Z",
          "iopub.status.idle": "2023-01-03T01:13:07.970301Z",
          "shell.execute_reply.started": "2023-01-03T01:13:07.970054Z",
          "shell.execute_reply": "2023-01-03T01:13:07.970079Z"
        },
        "trusted": true,
        "id": "hOmFTyXX82Ww"
      },
      "execution_count": 5,
      "outputs": []
    },
    {
      "cell_type": "code",
      "source": [
        "\n",
        "import numpy as np\n",
        "import nibabel as nib\n",
        "import glob\n",
        "from tensorflow.keras.utils import to_categorical\n",
        "import matplotlib.pyplot as plt\n",
        "from tifffile import imsave\n",
        "\n",
        "from sklearn.preprocessing import MinMaxScaler\n",
        "scaler = MinMaxScaler()\n",
        "##########################\n",
        "#This part of the code to get an initial understanding of the dataset.\n",
        "#################################\n",
        "#PART 1: Load sample images and visualize\n",
        "#Includes, dividing each image by its max to scale them to [0,1]\n",
        "#Converting mask from float to uint8\n",
        "#Changing mask pixel values (labels) from 4 to 3 (as the original labels are 0, 1, 2, 4)\n",
        "#Visualize\n",
        "###########################################\n",
        "#View a few images\n",
        "\n",
        "#Note: Segmented file name in Folder 355 has a weird name. Rename it to match others.\n",
        "MY_PATH='/content/drive/MyDrive/Brats_2020_dataset'\n",
        "\n",
        "TRAIN_DATASET_PATH =MY_PATH+ '/BraTS2020_TrainingData/MICCAI_BraTS2020_TrainingData/'\n",
        "#VALIDATION_DATASET_PATH = 'BraTS2020_ValidationData/MICCAI_BraTS2020_ValidationData'\n",
        "\n",
        "test_image_flair=nib.load(TRAIN_DATASET_PATH + 'BraTS20_Training_355/BraTS20_Training_355_flair.nii').get_fdata()\n",
        "print(test_image_flair.max())\n",
        "#Scalers are applied to 1D so let us reshape and then reshape back to original shape. \n",
        "test_image_flair=scaler.fit_transform(test_image_flair.reshape(-1, test_image_flair.shape[-1])).reshape(test_image_flair.shape)\n",
        "\n",
        "\n",
        "test_image_t1=nib.load(TRAIN_DATASET_PATH + 'BraTS20_Training_355/BraTS20_Training_355_t1.nii').get_fdata()\n",
        "test_image_t1=scaler.fit_transform(test_image_t1.reshape(-1, test_image_t1.shape[-1])).reshape(test_image_t1.shape)\n",
        "\n",
        "test_image_t1ce=nib.load(TRAIN_DATASET_PATH + 'BraTS20_Training_355/BraTS20_Training_355_t1ce.nii').get_fdata()\n",
        "test_image_t1ce=scaler.fit_transform(test_image_t1ce.reshape(-1, test_image_t1ce.shape[-1])).reshape(test_image_t1ce.shape)\n",
        "\n",
        "test_image_t2=nib.load(TRAIN_DATASET_PATH + 'BraTS20_Training_355/BraTS20_Training_355_t2.nii').get_fdata()\n",
        "test_image_t2=scaler.fit_transform(test_image_t2.reshape(-1, test_image_t2.shape[-1])).reshape(test_image_t2.shape)\n",
        "\n",
        "test_mask=nib.load(TRAIN_DATASET_PATH + 'BraTS20_Training_355/W39_1998.09.19_Segm.nii').get_fdata()\n",
        "test_mask=test_mask.astype(np.uint8)\n",
        "\n",
        "print(np.unique(test_mask))  #0, 1, 2, 4 (Need to reencode to 0, 1, 2, 3)\n",
        "test_mask[test_mask==4] = 3  #Reassign mask values 4 to 3\n",
        "print(np.unique(test_mask)) \n",
        "\n",
        "import random\n",
        "n_slice=random.randint(0, test_mask.shape[2])\n",
        "\n",
        "plt.figure(figsize=(12, 8))\n",
        "\n",
        "plt.subplot(231)\n",
        "plt.imshow(test_image_flair[:,:,n_slice], cmap='gray')\n",
        "plt.title('Image flair')\n",
        "plt.subplot(232)\n",
        "plt.imshow(test_image_t1[:,:,n_slice], cmap='gray')\n",
        "plt.title('Image t1')\n",
        "plt.subplot(233)\n",
        "plt.imshow(test_image_t1ce[:,:,n_slice], cmap='gray')\n",
        "plt.title('Image t1ce')\n",
        "plt.subplot(234)\n",
        "plt.imshow(test_image_t2[:,:,n_slice], cmap='gray')\n",
        "plt.title('Image t2')\n",
        "plt.subplot(235)\n",
        "plt.imshow(test_mask[:,:,n_slice])\n",
        "print(test_mask[:,:,n_slice].shape)\n",
        "plt.title('Mask')\n",
        "plt.show()"
      ],
      "metadata": {
        "_uuid": "da3710e5-a80a-4289-adca-b550ba4640ef",
        "_cell_guid": "4c2d1e4d-0d39-43bc-8171-377b35ee48d1",
        "jupyter": {
          "outputs_hidden": false
        },
        "execution": {
          "iopub.status.busy": "2023-01-03T01:13:07.995896Z",
          "iopub.execute_input": "2023-01-03T01:13:07.996142Z",
          "iopub.status.idle": "2023-01-03T01:13:17.279123Z",
          "shell.execute_reply.started": "2023-01-03T01:13:07.996118Z",
          "shell.execute_reply": "2023-01-03T01:13:17.278160Z"
        },
        "trusted": true,
        "colab": {
          "base_uri": "https://localhost:8080/",
          "height": 567
        },
        "id": "7v9p6Zmi82Wx",
        "outputId": "0ed8a4fa-08b1-4f59-d106-ec142ebb9513"
      },
      "execution_count": 6,
      "outputs": [
        {
          "output_type": "stream",
          "name": "stdout",
          "text": [
            "1854.603271484375\n",
            "[0 1 2 4]\n",
            "[0 1 2 3]\n",
            "(240, 240)\n"
          ]
        },
        {
          "output_type": "display_data",
          "data": {
            "text/plain": [
              "<Figure size 864x576 with 5 Axes>"
            ],
            "image/png": "[encoded data removed]"
          },
          "metadata": {
            "needs_background": "light"
          }
        }
      ]
    },
    {
      "cell_type": "code",
      "source": [
        "# # # images lists harley\n",
        "#t1_list = sorted(glob.glob('BraTS2020_TrainingData/MICCAI_BraTS2020_TrainingData/*/*t1.nii'))\n",
        "t2_list = sorted(glob.glob(TRAIN_DATASET_PATH+'*/*t2.nii'))\n",
        "t1ce_list = sorted(glob.glob(TRAIN_DATASET_PATH+'*/*t1ce.nii'))\n",
        "flair_list = sorted(glob.glob(TRAIN_DATASET_PATH+'*/*flair.nii'))\n",
        "mask_list = sorted(glob.glob(TRAIN_DATASET_PATH+'*/*seg.nii'))\n"
      ],
      "metadata": {
        "_uuid": "5dda938a-5965-43c0-9b84-f63eaf79362b",
        "_cell_guid": "12625815-ccf3-4632-b22a-781af2a54ce3",
        "jupyter": {
          "outputs_hidden": false
        },
        "execution": {
          "iopub.status.busy": "2023-01-03T01:13:17.280727Z",
          "iopub.execute_input": "2023-01-03T01:13:17.281483Z",
          "iopub.status.idle": "2023-01-03T01:13:19.090669Z",
          "shell.execute_reply.started": "2023-01-03T01:13:17.281443Z",
          "shell.execute_reply": "2023-01-03T01:13:19.089721Z"
        },
        "trusted": true,
        "id": "R6o1-Q9982Wy"
      },
      "execution_count": 7,
      "outputs": []
    },
    {
      "cell_type": "code",
      "source": [
        "mask_list.insert(354,'/content/drive/MyDrive/Brats_2020_dataset/BraTS2020_TrainingData/MICCAI_BraTS2020_TrainingData/BraTS20_Training_355/W39_1998.09.19_Segm.nii')"
      ],
      "metadata": {
        "execution": {
          "iopub.status.busy": "2023-01-03T01:13:19.092418Z",
          "iopub.execute_input": "2023-01-03T01:13:19.092789Z",
          "iopub.status.idle": "2023-01-03T01:13:19.098727Z",
          "shell.execute_reply.started": "2023-01-03T01:13:19.092751Z",
          "shell.execute_reply": "2023-01-03T01:13:19.096730Z"
        },
        "trusted": true,
        "id": "_OzEsj1T82Wy"
      },
      "execution_count": 8,
      "outputs": []
    },
    {
      "cell_type": "code",
      "source": [
        "len(flair_list)"
      ],
      "metadata": {
        "_uuid": "1ab9e745-7b98-46fc-8f13-02539f55992e",
        "_cell_guid": "3c7cd14a-6b97-4f0a-b515-d32ebf6957dd",
        "jupyter": {
          "outputs_hidden": false
        },
        "execution": {
          "iopub.status.busy": "2023-01-03T01:13:19.100007Z",
          "iopub.execute_input": "2023-01-03T01:13:19.101454Z",
          "iopub.status.idle": "2023-01-03T01:13:19.110614Z",
          "shell.execute_reply.started": "2023-01-03T01:13:19.101425Z",
          "shell.execute_reply": "2023-01-03T01:13:19.109358Z"
        },
        "trusted": true,
        "colab": {
          "base_uri": "https://localhost:8080/"
        },
        "id": "e1egWDaN82Wy",
        "outputId": "31b07c53-f484-48c3-b4d5-724c4bdaa92a"
      },
      "execution_count": 9,
      "outputs": [
        {
          "output_type": "execute_result",
          "data": {
            "text/plain": [
              "369"
            ]
          },
          "metadata": {},
          "execution_count": 9
        }
      ]
    },
    {
      "cell_type": "code",
      "source": [
        "len(mask_list)"
      ],
      "metadata": {
        "execution": {
          "iopub.status.busy": "2023-01-03T01:13:19.114138Z",
          "iopub.execute_input": "2023-01-03T01:13:19.114503Z",
          "iopub.status.idle": "2023-01-03T01:13:19.120755Z",
          "shell.execute_reply.started": "2023-01-03T01:13:19.114461Z",
          "shell.execute_reply": "2023-01-03T01:13:19.119736Z"
        },
        "trusted": true,
        "colab": {
          "base_uri": "https://localhost:8080/"
        },
        "id": "Q2_jW_VH82Wz",
        "outputId": "4570780a-5e60-43ba-d47b-1868b6c9a0a8"
      },
      "execution_count": 10,
      "outputs": [
        {
          "output_type": "execute_result",
          "data": {
            "text/plain": [
              "369"
            ]
          },
          "metadata": {},
          "execution_count": 10
        }
      ]
    },
    {
      "cell_type": "code",
      "source": [
        "mask_list[354]"
      ],
      "metadata": {
        "execution": {
          "iopub.status.busy": "2023-01-03T01:13:19.122724Z",
          "iopub.execute_input": "2023-01-03T01:13:19.123498Z",
          "iopub.status.idle": "2023-01-03T01:13:19.130265Z",
          "shell.execute_reply.started": "2023-01-03T01:13:19.123463Z",
          "shell.execute_reply": "2023-01-03T01:13:19.129377Z"
        },
        "trusted": true,
        "colab": {
          "base_uri": "https://localhost:8080/",
          "height": 35
        },
        "id": "88RRS6BE82Wz",
        "outputId": "80ff1be6-b72c-446c-95fc-4e7c297a220f"
      },
      "execution_count": 11,
      "outputs": [
        {
          "output_type": "execute_result",
          "data": {
            "text/plain": [
              "'/content/drive/MyDrive/Brats_2020_dataset/BraTS2020_TrainingData/MICCAI_BraTS2020_TrainingData/BraTS20_Training_355/W39_1998.09.19_Segm.nii'"
            ],
            "application/vnd.google.colaboratory.intrinsic+json": {
              "type": "string"
            }
          },
          "metadata": {},
          "execution_count": 11
        }
      ]
    },
    {
      "cell_type": "code",
      "source": [
        "t1ce_list[44]"
      ],
      "metadata": {
        "execution": {
          "iopub.status.busy": "2023-01-03T01:13:19.131932Z",
          "iopub.execute_input": "2023-01-03T01:13:19.132577Z",
          "iopub.status.idle": "2023-01-03T01:13:19.139687Z",
          "shell.execute_reply.started": "2023-01-03T01:13:19.132541Z",
          "shell.execute_reply": "2023-01-03T01:13:19.138719Z"
        },
        "trusted": true,
        "colab": {
          "base_uri": "https://localhost:8080/",
          "height": 35
        },
        "id": "NB2Jf3er82Wz",
        "outputId": "788ff77a-fe3d-4a3c-c40f-5b5f602fbd4e"
      },
      "execution_count": 12,
      "outputs": [
        {
          "output_type": "execute_result",
          "data": {
            "text/plain": [
              "'/content/drive/MyDrive/Brats_2020_dataset/BraTS2020_TrainingData/MICCAI_BraTS2020_TrainingData/BraTS20_Training_045/BraTS20_Training_045_t1ce.nii'"
            ],
            "application/vnd.google.colaboratory.intrinsic+json": {
              "type": "string"
            }
          },
          "metadata": {},
          "execution_count": 12
        }
      ]
    },
    {
      "cell_type": "code",
      "source": [
        "# import os\n",
        "\n",
        "# #Each volume generates 18 64x64x64x4 sub-volumes. \n",
        "# #Total 369 volumes = 6642 sub volumes\n",
        "\n",
        "# for img in range(len(t2_list)):   #Using t1_list as all lists are of same size\n",
        "#     print(\"Now preparing image and masks number: \", img)\n",
        "      \n",
        "# #     temp_image_t2=nib.load(t2_list[img]).get_fdata()\n",
        "# #     temp_image_t2=scaler.fit_transform(temp_image_t2.reshape(-1, temp_image_t2.shape[-1])).reshape(temp_image_t2.shape)\n",
        " \n",
        "#     temp_image_t1ce=nib.load(t1ce_list[img]).get_fdata()\n",
        "#     temp_image_t1ce=scaler.fit_transform(temp_image_t1ce.reshape(-1, temp_image_t1ce.shape[-1])).reshape(temp_image_t1ce.shape)\n",
        "#     #     print(\"temp_image_t1ce:\",temp_image_t1ce.shape)\n",
        "\n",
        "#     #     temp_image_flair=nib.load(flair_list[img]).get_fdata()\n",
        "#     #     temp_image_flair=scaler.fit_transform(temp_image_flair.reshape(-1, temp_image_flair.shape[-1])).reshape(temp_image_flair.shape)\n",
        "\n",
        "#     temp_mask=nib.load(mask_list[img]).get_fdata()\n",
        "#     temp_mask=temp_mask.astype(np.uint8)\n",
        "#     temp_mask[temp_mask==4] = 3  #Reassign mask values 4 to 3\n",
        "#     print(np.unique(temp_mask))\n",
        "\n",
        "\n",
        "# #     temp_combined_images = np.stack([ temp_image_t1ce], axis=3)\n",
        "#     temp_combined_images = temp_image_t1ce[...,np.newaxis]\n",
        "\n",
        "#     #     print(\"temp_combined_images:\",temp_combined_images.shape)\n",
        "\n",
        "#         #Crop to a size to be divisible by 64 so we can later extract 64x64x64 patches. \n",
        "#         #cropping x, y, and z\n",
        "#     temp_combined_images=temp_combined_images[56:184, 56:184, 13:141]\n",
        "#     #     print(\"temp_combined_images_sliced:\",temp_combined_images.shape)\n",
        "\n",
        "#     temp_mask = temp_mask[56:184, 56:184, 13:141]\n",
        "\n",
        "#     val, counts = np.unique(temp_mask, return_counts=True)\n",
        "\n",
        "#     if (1 - (counts[0]/counts.sum())) > 0.01:  #At least 1% useful volume with labels that are not 0\n",
        "#         print(\"Save Me\")\n",
        "#         temp_mask= to_categorical(temp_mask, num_classes=4)\n",
        "#     #         os.mkdir('/kaggle/working/BraTS2020_TrainingData/hhhh')\n",
        "\n",
        "# #         np.save('BraTS2020_TrainingData/images/image_'+str(img)+'.npy', temp_combined_images)\n",
        "# #         np.save('BraTS2020_TrainingData/masks/mask_'+str(img)+'.npy', temp_mask)\n",
        "\n",
        "#     else:\n",
        "#         print(\"I am useless\")"
      ],
      "metadata": {
        "_uuid": "c886bc64-28d9-47c7-90ac-e355e6d501df",
        "_cell_guid": "9f5e20db-5039-412d-aa0e-2b306f557de0",
        "jupyter": {
          "outputs_hidden": false
        },
        "execution": {
          "iopub.status.busy": "2023-01-03T01:13:19.141217Z",
          "iopub.execute_input": "2023-01-03T01:13:19.141947Z",
          "iopub.status.idle": "2023-01-03T01:13:19.148196Z",
          "shell.execute_reply.started": "2023-01-03T01:13:19.141912Z",
          "shell.execute_reply": "2023-01-03T01:13:19.147332Z"
        },
        "trusted": true,
        "id": "0ZYsWhDx82W0"
      },
      "execution_count": 13,
      "outputs": []
    },
    {
      "cell_type": "code",
      "source": [
        "import os\n",
        "import numpy as np\n",
        "\n",
        "\n",
        "def load_img( img_list):\n",
        "    images=[]\n",
        "    for i, image_name in enumerate(img_list):    \n",
        "            \n",
        "        temp_image_t1ce=nib.load(image_name).get_fdata()\n",
        "        temp_image_t1ce=scaler.fit_transform(temp_image_t1ce.reshape(-1, temp_image_t1ce.shape[-1])).reshape(temp_image_t1ce.shape)\n",
        "        temp_combined_images = temp_image_t1ce[...,np.newaxis]\n",
        "        temp_combined_images=temp_combined_images[56:184, 56:184, 13:141]\n",
        "        images.append(temp_combined_images)\n",
        "    images = np.array(images)\n",
        "    \n",
        "    return(images)\n",
        "\n",
        "def load_mask( mask_list):\n",
        "    masks=[]\n",
        "    for i, image_name in enumerate(mask_list): \n",
        "        \n",
        "        temp_mask=nib.load(image_name).get_fdata()\n",
        "        temp_mask=temp_mask.astype(np.uint8)\n",
        "        temp_mask[temp_mask==4] = 3  #Reassign mask values 4 to 3\n",
        "        temp_mask = temp_mask[56:184, 56:184, 13:141]\n",
        "        temp_mask= to_categorical(temp_mask, num_classes=4)\n",
        "        \n",
        "        masks.append(temp_mask)\n",
        "    masks = np.array(masks)\n",
        "    \n",
        "    return(masks)\n",
        "\n",
        "\n",
        "\n",
        "def imageLoader( img_list,  mask_list,batch_size):\n",
        "\n",
        "    L = len(img_list)\n",
        "\n",
        "    #keras needs the generator infinite, so we will use while true  \n",
        "    while True:\n",
        "\n",
        "        batch_start = 0\n",
        "        batch_end = batch_size\n",
        "\n",
        "        while batch_start < L:\n",
        "            limit = min(batch_end, L)\n",
        "                       \n",
        "            X = load_img(img_list[batch_start:limit])\n",
        "            X_new=np.moveaxis(X,-1,1)\n",
        "#             X_new= X\n",
        "            Y = load_mask( mask_list[batch_start:limit])\n",
        "            Y_new=np.moveaxis(Y,-1,1)\n",
        "\n",
        "            yield (X_new,{'Dec_GT_Output':Y_new , 'Dec_VAE_Output':X_new} )#a tuple with two numpy arrays with batch_size samples    \n",
        "#             yield (X_new,[ Y_new , X_new] )#a tuple with two numpy arrays with batch_size samples     \n",
        "\n",
        "\n",
        "            batch_start += batch_size   \n",
        "            batch_end += batch_size\n",
        "\n",
        "############################################"
      ],
      "metadata": {
        "execution": {
          "iopub.status.busy": "2023-01-03T01:13:19.151506Z",
          "iopub.execute_input": "2023-01-03T01:13:19.151797Z",
          "iopub.status.idle": "2023-01-03T01:13:19.165333Z",
          "shell.execute_reply.started": "2023-01-03T01:13:19.151773Z",
          "shell.execute_reply": "2023-01-03T01:13:19.164477Z"
        },
        "trusted": true,
        "id": "tXOes_Wc82W0"
      },
      "execution_count": 14,
      "outputs": []
    },
    {
      "cell_type": "code",
      "source": [
        "# train_img_dir = \"/kaggle/working/BraTS2020_TrainingData/images/\"\n",
        "# train_mask_dir = \"/kaggle/working/BraTS2020_TrainingData/masks/\"\n",
        "# train_img_list=os.listdir(train_img_dir)\n",
        "# train_mask_list = os.listdir(train_mask_dir)\n",
        "batch_size=3\n",
        "\n",
        "train_img_datagen = imageLoader(t1ce_list,mask_list, batch_size)"
      ],
      "metadata": {
        "execution": {
          "iopub.status.busy": "2023-01-03T01:13:19.166566Z",
          "iopub.execute_input": "2023-01-03T01:13:19.167304Z",
          "iopub.status.idle": "2023-01-03T01:13:19.177472Z",
          "shell.execute_reply.started": "2023-01-03T01:13:19.167269Z",
          "shell.execute_reply": "2023-01-03T01:13:19.176604Z"
        },
        "trusted": true,
        "id": "2aOb9gI682W0"
      },
      "execution_count": 15,
      "outputs": []
    },
    {
      "cell_type": "code",
      "source": [
        "x,y = train_img_datagen.__next__()"
      ],
      "metadata": {
        "execution": {
          "iopub.status.busy": "2023-01-03T01:13:19.178706Z",
          "iopub.execute_input": "2023-01-03T01:13:19.179590Z",
          "iopub.status.idle": "2023-01-03T01:13:20.657198Z",
          "shell.execute_reply.started": "2023-01-03T01:13:19.179554Z",
          "shell.execute_reply": "2023-01-03T01:13:20.656226Z"
        },
        "trusted": true,
        "id": "ksDeGZrp82W0"
      },
      "execution_count": 16,
      "outputs": []
    },
    {
      "cell_type": "code",
      "source": [
        "x.shape"
      ],
      "metadata": {
        "execution": {
          "iopub.status.busy": "2023-01-03T01:13:20.658746Z",
          "iopub.execute_input": "2023-01-03T01:13:20.659110Z",
          "iopub.status.idle": "2023-01-03T01:13:20.667099Z",
          "shell.execute_reply.started": "2023-01-03T01:13:20.659071Z",
          "shell.execute_reply": "2023-01-03T01:13:20.665975Z"
        },
        "trusted": true,
        "colab": {
          "base_uri": "https://localhost:8080/"
        },
        "id": "xQUQCgod82W1",
        "outputId": "4f67ac82-8369-4655-c959-1779c1417d15"
      },
      "execution_count": 17,
      "outputs": [
        {
          "output_type": "execute_result",
          "data": {
            "text/plain": [
              "(3, 1, 128, 128, 128)"
            ]
          },
          "metadata": {},
          "execution_count": 17
        }
      ]
    },
    {
      "cell_type": "code",
      "source": [
        "n_slice=34\n",
        "plt.imshow(x[0,0,:,:,n_slice], cmap='gray')"
      ],
      "metadata": {
        "execution": {
          "iopub.status.busy": "2023-01-03T01:13:20.668914Z",
          "iopub.execute_input": "2023-01-03T01:13:20.669442Z",
          "iopub.status.idle": "2023-01-03T01:13:20.885095Z",
          "shell.execute_reply.started": "2023-01-03T01:13:20.669406Z",
          "shell.execute_reply": "2023-01-03T01:13:20.884210Z"
        },
        "trusted": true,
        "colab": {
          "base_uri": "https://localhost:8080/",
          "height": 285
        },
        "id": "47qlDSZf82W1",
        "outputId": "55a33a9e-9c16-4d4e-faf7-941f8cf39656"
      },
      "execution_count": 18,
      "outputs": [
        {
          "output_type": "execute_result",
          "data": {
            "text/plain": [
              "<matplotlib.image.AxesImage at 0x7f3cf3ed07f0>"
            ]
          },
          "metadata": {},
          "execution_count": 18
        },
        {
          "output_type": "display_data",
          "data": {
            "text/plain": [
              "<Figure size 432x288 with 1 Axes>"
            ],
            "image/png": "[encoded data removed]"
          },
          "metadata": {
            "needs_background": "light"
          }
        }
      ]
    },
    {
      "cell_type": "code",
      "source": [
        "y['Dec_GT_Output'].shape"
      ],
      "metadata": {
        "execution": {
          "iopub.status.busy": "2023-01-03T01:13:20.889498Z",
          "iopub.execute_input": "2023-01-03T01:13:20.890390Z",
          "iopub.status.idle": "2023-01-03T01:13:20.898101Z",
          "shell.execute_reply.started": "2023-01-03T01:13:20.890353Z",
          "shell.execute_reply": "2023-01-03T01:13:20.897190Z"
        },
        "trusted": true,
        "colab": {
          "base_uri": "https://localhost:8080/"
        },
        "id": "gh-q2rpO82W1",
        "outputId": "03f8d2a8-f613-4f6b-cb38-a6da9954b394"
      },
      "execution_count": 19,
      "outputs": [
        {
          "output_type": "execute_result",
          "data": {
            "text/plain": [
              "(3, 4, 128, 128, 128)"
            ]
          },
          "metadata": {},
          "execution_count": 19
        }
      ]
    },
    {
      "cell_type": "code",
      "source": [
        "np.unique(y['Dec_GT_Output'])"
      ],
      "metadata": {
        "execution": {
          "iopub.status.busy": "2023-01-03T01:13:20.899753Z",
          "iopub.execute_input": "2023-01-03T01:13:20.900269Z",
          "iopub.status.idle": "2023-01-03T01:13:21.767580Z",
          "shell.execute_reply.started": "2023-01-03T01:13:20.900233Z",
          "shell.execute_reply": "2023-01-03T01:13:21.766417Z"
        },
        "trusted": true,
        "colab": {
          "base_uri": "https://localhost:8080/"
        },
        "id": "YVSO71If82W1",
        "outputId": "28f2fded-ec8f-48ea-d559-7eb57d17ef02"
      },
      "execution_count": 20,
      "outputs": [
        {
          "output_type": "execute_result",
          "data": {
            "text/plain": [
              "array([0., 1.], dtype=float32)"
            ]
          },
          "metadata": {},
          "execution_count": 20
        }
      ]
    },
    {
      "cell_type": "code",
      "source": [
        "y_mask= np.argmax(y['Dec_GT_Output'],axis=1)\n",
        "print(y_mask.shape)\n",
        "print(np.unique(y_mask))"
      ],
      "metadata": {
        "execution": {
          "iopub.status.busy": "2023-01-03T01:13:21.770810Z",
          "iopub.execute_input": "2023-01-03T01:13:21.771412Z",
          "iopub.status.idle": "2023-01-03T01:13:21.983581Z",
          "shell.execute_reply.started": "2023-01-03T01:13:21.771371Z",
          "shell.execute_reply": "2023-01-03T01:13:21.982417Z"
        },
        "trusted": true,
        "colab": {
          "base_uri": "https://localhost:8080/"
        },
        "id": "JIvHpPjh82W1",
        "outputId": "e06546a3-b3b1-4c7e-fc17-a9113e14dde6"
      },
      "execution_count": 21,
      "outputs": [
        {
          "output_type": "stream",
          "name": "stdout",
          "text": [
            "(3, 128, 128, 128)\n",
            "[0 1 2 3]\n"
          ]
        }
      ]
    },
    {
      "cell_type": "code",
      "source": [
        "plt.imshow(y_mask[0,:,:,n_slice])"
      ],
      "metadata": {
        "execution": {
          "iopub.status.busy": "2023-01-03T01:13:21.984860Z",
          "iopub.execute_input": "2023-01-03T01:13:21.985233Z",
          "iopub.status.idle": "2023-01-03T01:13:22.292599Z",
          "shell.execute_reply.started": "2023-01-03T01:13:21.985195Z",
          "shell.execute_reply": "2023-01-03T01:13:22.291572Z"
        },
        "trusted": true,
        "colab": {
          "base_uri": "https://localhost:8080/",
          "height": 285
        },
        "id": "FbEDye3p82W1",
        "outputId": "72112079-990f-404e-bef0-981e10241e57"
      },
      "execution_count": 22,
      "outputs": [
        {
          "output_type": "execute_result",
          "data": {
            "text/plain": [
              "<matplotlib.image.AxesImage at 0x7f3cf3eaadf0>"
            ]
          },
          "metadata": {},
          "execution_count": 22
        },
        {
          "output_type": "display_data",
          "data": {
            "text/plain": [
              "<Figure size 432x288 with 1 Axes>"
            ],
            "image/png": "[encoded data removed]"
          },
          "metadata": {
            "needs_background": "light"
          }
        }
      ]
    },
    {
      "cell_type": "code",
      "source": [
        "y['Dec_VAE_Output'].shape"
      ],
      "metadata": {
        "execution": {
          "iopub.status.busy": "2023-01-03T01:13:22.296896Z",
          "iopub.execute_input": "2023-01-03T01:13:22.297747Z",
          "iopub.status.idle": "2023-01-03T01:13:22.310472Z",
          "shell.execute_reply.started": "2023-01-03T01:13:22.297705Z",
          "shell.execute_reply": "2023-01-03T01:13:22.309322Z"
        },
        "trusted": true,
        "colab": {
          "base_uri": "https://localhost:8080/"
        },
        "id": "Jkzz3z6S82W2",
        "outputId": "95c5d279-caae-4443-a98c-eb8af40e469d"
      },
      "execution_count": 23,
      "outputs": [
        {
          "output_type": "execute_result",
          "data": {
            "text/plain": [
              "(3, 1, 128, 128, 128)"
            ]
          },
          "metadata": {},
          "execution_count": 23
        }
      ]
    },
    {
      "cell_type": "code",
      "source": [
        "# for i in train_img_datagen:\n",
        "#     print(i.shape)"
      ],
      "metadata": {
        "execution": {
          "iopub.status.busy": "2023-01-03T01:13:22.314043Z",
          "iopub.execute_input": "2023-01-03T01:13:22.318027Z",
          "iopub.status.idle": "2023-01-03T01:13:22.323843Z",
          "shell.execute_reply.started": "2023-01-03T01:13:22.317986Z",
          "shell.execute_reply": "2023-01-03T01:13:22.322874Z"
        },
        "trusted": true,
        "id": "pa5TLrf982W2"
      },
      "execution_count": 24,
      "outputs": []
    },
    {
      "cell_type": "code",
      "source": [
        "from  tensorflow.keras.layers import Layer, InputSpec\n",
        "from tensorflow.keras import initializers\n",
        "from tensorflow.keras import regularizers\n",
        "from tensorflow.keras import constraints\n",
        "from tensorflow.keras import backend as K\n",
        "\n",
        "from keras.utils.generic_utils import get_custom_objects\n",
        "\n",
        "\n",
        "class GroupNormalization(Layer):\n",
        "    \"\"\"Group normalization layer\n",
        "    Group Normalization divides the channels into groups and computes within each group\n",
        "    the mean and variance for normalization. GN's computation is independent of batch sizes,\n",
        "    and its accuracy is stable in a wide range of batch sizes\n",
        "    # Arguments\n",
        "        groups: Integer, the number of groups for Group Normalization.\n",
        "        axis: Integer, the axis that should be normalized\n",
        "            (typically the features axis).\n",
        "            For instance, after a `Conv2D` layer with\n",
        "            `data_format=\"channels_first\"`,\n",
        "            set `axis=1` in `BatchNormalization`.\n",
        "        epsilon: Small float added to variance to avoid dividing by zero.\n",
        "        center: If True, add offset of `beta` to normalized tensor.\n",
        "            If False, `beta` is ignored.\n",
        "        scale: If True, multiply by `gamma`.\n",
        "            If False, `gamma` is not used.\n",
        "            When the next layer is linear (also e.g. `nn.relu`),\n",
        "            this can be disabled since the scaling\n",
        "            will be done by the next layer.\n",
        "        beta_initializer: Initializer for the beta weight.\n",
        "        gamma_initializer: Initializer for the gamma weight.\n",
        "        beta_regularizer: Optional regularizer for the beta weight.\n",
        "        gamma_regularizer: Optional regularizer for the gamma weight.\n",
        "        beta_constraint: Optional constraint for the beta weight.\n",
        "        gamma_constraint: Optional constraint for the gamma weight.\n",
        "    # Input shape\n",
        "        Arbitrary. Use the keyword argument `input_shape`\n",
        "        (tuple of integers, does not include the samples axis)\n",
        "        when using this layer as the first layer in a model.\n",
        "    # Output shape\n",
        "        Same shape as input.\n",
        "    # References\n",
        "        - [Group Normalization](https://arxiv.org/abs/1803.08494)\n",
        "    \"\"\"\n",
        "\n",
        "    def __init__(self,\n",
        "                 groups=32,\n",
        "                 axis=-1,\n",
        "                 epsilon=1e-5,\n",
        "                 center=True,\n",
        "                 scale=True,\n",
        "                 beta_initializer='zeros',\n",
        "                 gamma_initializer='ones',\n",
        "                 beta_regularizer=None,\n",
        "                 gamma_regularizer=None,\n",
        "                 beta_constraint=None,\n",
        "                 gamma_constraint=None,\n",
        "                 **kwargs):\n",
        "        super(GroupNormalization, self).__init__(**kwargs)\n",
        "        self.supports_masking = True\n",
        "        self.groups = groups\n",
        "        self.axis = axis\n",
        "        self.epsilon = epsilon\n",
        "        self.center = center\n",
        "        self.scale = scale\n",
        "        self.beta_initializer = initializers.get(beta_initializer)\n",
        "        self.gamma_initializer = initializers.get(gamma_initializer)\n",
        "        self.beta_regularizer = regularizers.get(beta_regularizer)\n",
        "        self.gamma_regularizer = regularizers.get(gamma_regularizer)\n",
        "        self.beta_constraint = constraints.get(beta_constraint)\n",
        "        self.gamma_constraint = constraints.get(gamma_constraint)\n",
        "\n",
        "    def build(self, input_shape):\n",
        "        dim = input_shape[self.axis]\n",
        "\n",
        "        if dim is None:\n",
        "            raise ValueError('Axis ' + str(self.axis) + ' of '\n",
        "                             'input tensor should have a defined dimension '\n",
        "                             'but the layer received an input with shape ' +\n",
        "                             str(input_shape) + '.')\n",
        "\n",
        "        if dim < self.groups:\n",
        "            raise ValueError('Number of groups (' + str(self.groups) + ') cannot be '\n",
        "                             'more than the number of channels (' +\n",
        "                             str(dim) + ').')\n",
        "\n",
        "        if dim % self.groups != 0:\n",
        "            raise ValueError('Number of groups (' + str(self.groups) + ') must be a '\n",
        "                             'multiple of the number of channels (' +\n",
        "                             str(dim) + ').')\n",
        "\n",
        "        self.input_spec = InputSpec(ndim=len(input_shape),\n",
        "                                    axes={self.axis: dim})\n",
        "        shape = (dim,)\n",
        "\n",
        "        if self.scale:\n",
        "            self.gamma = self.add_weight(shape=shape,\n",
        "                                         name='gamma',\n",
        "                                         initializer=self.gamma_initializer,\n",
        "                                         regularizer=self.gamma_regularizer,\n",
        "                                         constraint=self.gamma_constraint)\n",
        "        else:\n",
        "            self.gamma = None\n",
        "        if self.center:\n",
        "            self.beta = self.add_weight(shape=shape,\n",
        "                                        name='beta',\n",
        "                                        initializer=self.beta_initializer,\n",
        "                                        regularizer=self.beta_regularizer,\n",
        "                                        constraint=self.beta_constraint)\n",
        "        else:\n",
        "            self.beta = None\n",
        "        self.built = True\n",
        "\n",
        "    def call(self, inputs, **kwargs):\n",
        "        input_shape = K.int_shape(inputs)\n",
        "        tensor_input_shape = K.shape(inputs)\n",
        "\n",
        "        # Prepare broadcasting shape.\n",
        "        reduction_axes = list(range(len(input_shape)))\n",
        "        del reduction_axes[self.axis]\n",
        "        broadcast_shape = [1] * len(input_shape)\n",
        "        broadcast_shape[self.axis] = input_shape[self.axis] // self.groups\n",
        "        broadcast_shape.insert(1, self.groups)\n",
        "\n",
        "        reshape_group_shape = K.shape(inputs)\n",
        "        group_axes = [reshape_group_shape[i] for i in range(len(input_shape))]\n",
        "        group_axes[self.axis] = input_shape[self.axis] // self.groups\n",
        "        group_axes.insert(1, self.groups)\n",
        "\n",
        "        # reshape inputs to new group shape\n",
        "        group_shape = [group_axes[0], self.groups] + group_axes[2:]\n",
        "        group_shape = K.stack(group_shape)\n",
        "        inputs = K.reshape(inputs, group_shape)\n",
        "\n",
        "        group_reduction_axes = list(range(len(group_axes)))\n",
        "        group_reduction_axes = group_reduction_axes[2:]\n",
        "\n",
        "        mean = K.mean(inputs, axis=group_reduction_axes, keepdims=True)\n",
        "        variance = K.var(inputs, axis=group_reduction_axes, keepdims=True)\n",
        "\n",
        "        inputs = (inputs - mean) / (K.sqrt(variance + self.epsilon))\n",
        "\n",
        "        # prepare broadcast shape\n",
        "        inputs = K.reshape(inputs, group_shape)\n",
        "        outputs = inputs\n",
        "\n",
        "        # In this case we must explicitly broadcast all parameters.\n",
        "        if self.scale:\n",
        "            broadcast_gamma = K.reshape(self.gamma, broadcast_shape)\n",
        "            outputs = outputs * broadcast_gamma\n",
        "\n",
        "        if self.center:\n",
        "            broadcast_beta = K.reshape(self.beta, broadcast_shape)\n",
        "            outputs = outputs + broadcast_beta\n",
        "\n",
        "        outputs = K.reshape(outputs, tensor_input_shape)\n",
        "\n",
        "        return outputs\n",
        "\n",
        "    def get_config(self):\n",
        "        config = {\n",
        "            'groups': self.groups,\n",
        "            'axis': self.axis,\n",
        "            'epsilon': self.epsilon,\n",
        "            'center': self.center,\n",
        "            'scale': self.scale,\n",
        "            'beta_initializer': initializers.serialize(self.beta_initializer),\n",
        "            'gamma_initializer': initializers.serialize(self.gamma_initializer),\n",
        "            'beta_regularizer': regularizers.serialize(self.beta_regularizer),\n",
        "            'gamma_regularizer': regularizers.serialize(self.gamma_regularizer),\n",
        "            'beta_constraint': constraints.serialize(self.beta_constraint),\n",
        "            'gamma_constraint': constraints.serialize(self.gamma_constraint)\n",
        "        }\n",
        "        base_config = super(GroupNormalization, self).get_config()\n",
        "        return dict(list(base_config.items()) + list(config.items()))\n",
        "\n",
        "    def compute_output_shape(self, input_shape):\n",
        "        return input_shape\n"
      ],
      "metadata": {
        "execution": {
          "iopub.status.busy": "2023-01-03T01:13:22.325929Z",
          "iopub.execute_input": "2023-01-03T01:13:22.327849Z",
          "iopub.status.idle": "2023-01-03T01:13:22.370717Z",
          "shell.execute_reply.started": "2023-01-03T01:13:22.327807Z",
          "shell.execute_reply": "2023-01-03T01:13:22.369409Z"
        },
        "trusted": true,
        "id": "NxaM1oQy82W2"
      },
      "execution_count": 25,
      "outputs": []
    },
    {
      "cell_type": "code",
      "source": [
        "import tensorflow.keras.backend as K\n",
        "from tensorflow.keras.losses import mse\n",
        "from tensorflow.keras.layers import Conv3D, Activation, Add, UpSampling3D, Lambda, Dense\n",
        "from tensorflow.keras.layers import Input, Reshape, Flatten, Dropout, SpatialDropout3D\n",
        "from tensorflow.keras.optimizers import Adam\n",
        "from tensorflow.keras.models import Model\n",
        "# try:\n",
        "#     from group_norm import GroupNormalization\n",
        "# except ImportError:\n",
        "#     import urllib.request\n",
        "#     print('Downloading group_norm.py in the current directory...')\n",
        "#     url = 'https://raw.githubusercontent.com/titu1994/Keras-Group-Normalization/master/group_norm.py'\n",
        "#     urllib.request.urlretrieve(url, \"group_norm.py\")\n",
        "#     from group_norm import GroupNormalization\n",
        "\n",
        "\n",
        "def green_block(inp, filters, data_format='channels_first', name=None):\n",
        "    \"\"\"\n",
        "    green_block(inp, filters, name=None)\n",
        "    ------------------------------------\n",
        "    Implementation of the special residual block used in the paper. The block\n",
        "    consists of two (GroupNorm --> ReLu --> 3x3x3 non-strided Convolution)\n",
        "    units, with a residual connection from the input `inp` to the output. Used\n",
        "    internally in the model. Can be used independently as well.\n",
        "    Parameters\n",
        "    ----------\n",
        "    `inp`: An keras.layers.layer instance, required\n",
        "        The keras layer just preceding the green block.\n",
        "    `filters`: integer, required\n",
        "        No. of filters to use in the 3D convolutional block. The output\n",
        "        layer of this green block will have this many no. of channels.\n",
        "    `data_format`: string, optional\n",
        "        The format of the input data. Must be either 'chanels_first' or\n",
        "        'channels_last'. Defaults to `channels_first`, as used in the paper.\n",
        "    `name`: string, optional\n",
        "        The name to be given to this green block. Defaults to None, in which\n",
        "        case, keras uses generated names for the involved layers. If a string\n",
        "        is provided, the names of individual layers are generated by attaching\n",
        "        a relevant prefix from [GroupNorm_, Res_, Conv3D_, Relu_, ], followed\n",
        "        by _1 or _2.\n",
        "    Returns\n",
        "    -------\n",
        "    `out`: A keras.layers.Layer instance\n",
        "        The output of the green block. Has no. of channels equal to `filters`.\n",
        "        The size of the rest of the dimensions remains same as in `inp`.\n",
        "    \"\"\"\n",
        "    inp_res = Conv3D(\n",
        "        filters=filters,\n",
        "        kernel_size=(1, 1, 1),\n",
        "        strides=1,\n",
        "        data_format=data_format,\n",
        "        name=f'Res_{name}' if name else None)(inp)\n",
        "\n",
        "    # axis=1 for channels_first data format\n",
        "    # No. of groups = 8, as given in the paper\n",
        "    x = GroupNormalization(\n",
        "        groups=8,\n",
        "        axis=1 if data_format == 'channels_first' else 0,\n",
        "        name=f'GroupNorm_1_{name}' if name else None)(inp)\n",
        "    x = Activation('relu', name=f'Relu_1_{name}' if name else None)(x)\n",
        "    x = Conv3D(\n",
        "        filters=filters,\n",
        "        kernel_size=(3, 3, 3),\n",
        "        strides=1,\n",
        "        padding='same',\n",
        "        data_format=data_format,\n",
        "        name=f'Conv3D_1_{name}' if name else None)(x)\n",
        "\n",
        "    x = GroupNormalization(\n",
        "        groups=8,\n",
        "        axis=1 if data_format == 'channels_first' else 0,\n",
        "        name=f'GroupNorm_2_{name}' if name else None)(x)\n",
        "    x = Activation('relu', name=f'Relu_2_{name}' if name else None)(x)\n",
        "    x = Conv3D(\n",
        "        filters=filters,\n",
        "        kernel_size=(3, 3, 3),\n",
        "        strides=1,\n",
        "        padding='same',\n",
        "        data_format=data_format,\n",
        "        name=f'Conv3D_2_{name}' if name else None)(x)\n",
        "\n",
        "    out = Add(name=f'Out_{name}' if name else None)([x, inp_res])\n",
        "    return out\n",
        "\n",
        "\n",
        "# From keras-team/keras/blob/master/examples/variational_autoencoder.py\n",
        "def sampling(args):\n",
        "    \"\"\"Reparameterization trick by sampling from an isotropic unit Gaussian.\n",
        "    # Arguments\n",
        "        args (tensor): mean and log of variance of Q(z|X)\n",
        "    # Returns\n",
        "        z (tensor): sampled latent vector\n",
        "    \"\"\"\n",
        "    z_mean, z_var = args\n",
        "    batch = K.shape(z_mean)[0]\n",
        "    dim = K.int_shape(z_mean)[1]\n",
        "    # by default, random_normal has mean = 0 and std = 1.0\n",
        "    epsilon = K.random_normal(shape=(batch, dim))\n",
        "    return z_mean + K.exp(0.5 * z_var) * epsilon\n",
        "\n",
        "\n",
        "def dice_coefficient(y_true, y_pred):\n",
        "    intersection = K.sum(K.abs(y_true * y_pred), axis=[-3,-2,-1])\n",
        "    dn = K.sum(K.square(y_true) + K.square(y_pred), axis=[-3,-2,-1]) + 1e-8\n",
        "    return K.mean(2 * intersection / dn, axis=[0,1])\n",
        "\n",
        "\n",
        "def loss_gt(e=1e-8):\n",
        "    \"\"\"\n",
        "    loss_gt(e=1e-8)\n",
        "    ------------------------------------------------------\n",
        "    Since keras does not allow custom loss functions to have arguments\n",
        "    other than the true and predicted labels, this function acts as a wrapper\n",
        "    that allows us to implement the custom loss used in the paper. This function\n",
        "    only calculates - L<dice> term of the following equation. (i.e. GT Decoder part loss)\n",
        "    \n",
        "    L = - L<dice> + weight_L2 ∗ L<L2> + weight_KL ∗ L<KL>\n",
        "    \n",
        "    Parameters\n",
        "    ----------\n",
        "    `e`: Float, optional\n",
        "        A small epsilon term to add in the denominator to avoid dividing by\n",
        "        zero and possible gradient explosion.\n",
        "        \n",
        "    Returns\n",
        "    -------\n",
        "    loss_gt_(y_true, y_pred): A custom keras loss function\n",
        "        This function takes as input the predicted and ground labels, uses them\n",
        "        to calculate the dice loss.\n",
        "        \n",
        "    \"\"\"\n",
        "    def loss_gt_(y_true, y_pred):\n",
        "        intersection = K.sum(K.abs(y_true * y_pred), axis=[-3,-2,-1])\n",
        "        dn = K.sum(K.square(y_true) + K.square(y_pred), axis=[-3,-2,-1]) + e\n",
        "        \n",
        "        return - K.mean(2 * intersection / dn, axis=[0,1])\n",
        "    \n",
        "    return loss_gt_\n",
        "\n",
        "def loss_VAE(input_shape, z_mean, z_var, weight_L2=0.1, weight_KL=0.1):\n",
        "    \"\"\"\n",
        "    loss_VAE(input_shape, z_mean, z_var, weight_L2=0.1, weight_KL=0.1)\n",
        "    ------------------------------------------------------\n",
        "    Since keras does not allow custom loss functions to have arguments\n",
        "    other than the true and predicted labels, this function acts as a wrapper\n",
        "    that allows us to implement the custom loss used in the paper. This function\n",
        "    calculates the following equation, except for -L<dice> term. (i.e. VAE decoder part loss)\n",
        "    \n",
        "    L = - L<dice> + weight_L2 ∗ L<L2> + weight_KL ∗ L<KL>\n",
        "    \n",
        "    Parameters\n",
        "    ----------\n",
        "     `input_shape`: A 4-tuple, required\n",
        "        The shape of an image as the tuple (c, H, W, D), where c is\n",
        "        the no. of channels; H, W and D is the height, width and depth of the\n",
        "        input image, respectively.\n",
        "    `z_mean`: An keras.layers.Layer instance, required\n",
        "        The vector representing values of mean for the learned distribution\n",
        "        in the VAE part. Used internally.\n",
        "    `z_var`: An keras.layers.Layer instance, required\n",
        "        The vector representing values of variance for the learned distribution\n",
        "        in the VAE part. Used internally.\n",
        "    `weight_L2`: A real number, optional\n",
        "        The weight to be given to the L2 loss term in the loss function. Adjust to get best\n",
        "        results for your task. Defaults to 0.1.\n",
        "    `weight_KL`: A real number, optional\n",
        "        The weight to be given to the KL loss term in the loss function. Adjust to get best\n",
        "        results for your task. Defaults to 0.1.\n",
        "        \n",
        "    Returns\n",
        "    -------\n",
        "    loss_VAE_(y_true, y_pred): A custom keras loss function\n",
        "        This function takes as input the predicted and ground labels, uses them\n",
        "        to calculate the L2 and KL loss.\n",
        "        \n",
        "    \"\"\"\n",
        "    def loss_VAE_(y_true, y_pred):\n",
        "        c, H, W, D = input_shape\n",
        "        n = c * H * W * D\n",
        "        \n",
        "        loss_L2 = K.mean(K.square(y_true - y_pred), axis=(1, 2, 3, 4)) # original axis value is (1,2,3,4).\n",
        "\n",
        "        loss_KL = (1 / n) * K.sum(\n",
        "            K.exp(z_var) + K.square(z_mean) - 1. - z_var,\n",
        "            axis=-1\n",
        "        )\n",
        "\n",
        "        return weight_L2 * loss_L2 + weight_KL * loss_KL\n",
        "\n",
        "    return loss_VAE_\n",
        "\n",
        "def build_model(input_shape=(1, 160, 192, 128), output_channels=4, weight_L2=0.1, weight_KL=0.1, dice_e=1e-8):\n",
        "    \"\"\"\n",
        "    build_model(input_shape=(4, 160, 192, 128), output_channels=3, weight_L2=0.1, weight_KL=0.1)\n",
        "    -------------------------------------------\n",
        "    Creates the model used in the BRATS2018 winning solution\n",
        "    by Myronenko A. (https://arxiv.org/pdf/1810.11654.pdf)\n",
        "    Parameters\n",
        "    ----------\n",
        "    `input_shape`: A 4-tuple, optional.\n",
        "        Shape of the input image. Must be a 4D image of shape (c, H, W, D),\n",
        "        where, each of H, W and D are divisible by 2^4, and c is divisible by 4.\n",
        "        Defaults to the crop size used in the paper, i.e., (4, 160, 192, 128).\n",
        "    `output_channels`: An integer, optional.\n",
        "        The no. of channels in the output. Defaults to 3 (BraTS 2018 format).\n",
        "    `weight_L2`: A real number, optional\n",
        "        The weight to be given to the L2 loss term in the loss function. Adjust to get best\n",
        "        results for your task. Defaults to 0.1.\n",
        "    `weight_KL`: A real number, optional\n",
        "        The weight to be given to the KL loss term in the loss function. Adjust to get best\n",
        "        results for your task. Defaults to 0.1.\n",
        "    `dice_e`: Float, optional\n",
        "        A small epsilon term to add in the denominator of dice loss to avoid dividing by\n",
        "        zero and possible gradient explosion. This argument will be passed to loss_gt function.\n",
        "    Returns\n",
        "    -------\n",
        "    `model`: A keras.models.Model instance\n",
        "        The created model.\n",
        "    \"\"\"\n",
        "    c,H, W, D = input_shape\n",
        "    assert len(input_shape) == 4, \"Input shape must be a 4-tuple\"\n",
        "#     assert (c % 4) == 0, \"The no. of channels must be divisible by 4\"\n",
        "    assert (H % 16) == 0 and (W % 16) == 0 , \\\n",
        "        \"All the input dimensions must be divisible by 16\"\n",
        "\n",
        "\n",
        "    # -------------------------------------------------------------------------\n",
        "    # Encoder\n",
        "    # -------------------------------------------------------------------------\n",
        "\n",
        "    ## Input Layer\n",
        "    inp = Input(input_shape)\n",
        "\n",
        "    ## The Initial Block\n",
        "    x = Conv3D(\n",
        "        filters=32,\n",
        "        kernel_size=(3, 3, 3),\n",
        "        strides=1,\n",
        "        padding='same',\n",
        "        data_format='channels_first',\n",
        "        name='Input_x1')(inp)\n",
        "\n",
        "    ## Dropout (0.2)\n",
        "    x = SpatialDropout3D(0.2, data_format='channels_first')(x)\n",
        "\n",
        "    ## Green Block x1 (output filters = 32)\n",
        "    x1 = green_block(x, 32, name='x1')\n",
        "    x = Conv3D(\n",
        "        filters=32,\n",
        "        kernel_size=(3, 3, 3),\n",
        "        strides=2,\n",
        "        padding='same',\n",
        "        data_format='channels_first',\n",
        "        name='Enc_DownSample_32')(x1)\n",
        "\n",
        "    ## Green Block x2 (output filters = 64)\n",
        "    x = green_block(x, 64, name='Enc_64_1')\n",
        "    x2 = green_block(x, 64, name='x2')\n",
        "    x = Conv3D(\n",
        "        filters=64,\n",
        "        kernel_size=(3, 3, 3),\n",
        "        strides=2,\n",
        "        padding='same',\n",
        "        data_format='channels_first',\n",
        "        name='Enc_DownSample_64')(x2)\n",
        "\n",
        "    ## Green Blocks x2 (output filters = 128)\n",
        "    x = green_block(x, 128, name='Enc_128_1')\n",
        "    x3 = green_block(x, 128, name='x3')\n",
        "    x = Conv3D(\n",
        "        filters=128,\n",
        "        kernel_size=(3, 3, 3),\n",
        "        strides=2,\n",
        "        padding='same',\n",
        "        data_format='channels_first',\n",
        "        name='Enc_DownSample_128')(x3)\n",
        "\n",
        "    ## Green Blocks x4 (output filters = 256)\n",
        "    x = green_block(x, 256, name='Enc_256_1')\n",
        "    x = green_block(x, 256, name='Enc_256_2')\n",
        "    x = green_block(x, 256, name='Enc_256_3')\n",
        "    x4 = green_block(x, 256, name='x4')\n",
        "\n",
        "    # -------------------------------------------------------------------------\n",
        "    # Decoder\n",
        "    # -------------------------------------------------------------------------\n",
        "\n",
        "    ## GT (Groud Truth) Part\n",
        "    # -------------------------------------------------------------------------\n",
        "\n",
        "    ### Green Block x1 (output filters=128)\n",
        "    x = Conv3D(\n",
        "        filters=128,\n",
        "        kernel_size=(1, 1, 1),\n",
        "        strides=1,\n",
        "        data_format='channels_first',\n",
        "        name='Dec_GT_ReduceDepth_128')(x4)\n",
        "    x = UpSampling3D(\n",
        "        size=2,\n",
        "        data_format='channels_first',\n",
        "        name='Dec_GT_UpSample_128')(x)\n",
        "    x = Add(name='Input_Dec_GT_128')([x, x3])\n",
        "    x = green_block(x, 128, name='Dec_GT_128')\n",
        "\n",
        "    ### Green Block x1 (output filters=64)\n",
        "    x = Conv3D(\n",
        "        filters=64,\n",
        "        kernel_size=(1, 1, 1),\n",
        "        strides=1,\n",
        "        data_format='channels_first',\n",
        "        name='Dec_GT_ReduceDepth_64')(x)\n",
        "    x = UpSampling3D(\n",
        "        size=2,\n",
        "        data_format='channels_first',\n",
        "        name='Dec_GT_UpSample_64')(x)\n",
        "    x = Add(name='Input_Dec_GT_64')([x, x2])\n",
        "    x = green_block(x, 64, name='Dec_GT_64')\n",
        "\n",
        "    ### Green Block x1 (output filters=32)\n",
        "    x = Conv3D(\n",
        "        filters=32,\n",
        "        kernel_size=(1, 1, 1),\n",
        "        strides=1,\n",
        "        data_format='channels_first',\n",
        "        name='Dec_GT_ReduceDepth_32')(x)\n",
        "    x = UpSampling3D(\n",
        "        size=2,\n",
        "        data_format='channels_first',\n",
        "        name='Dec_GT_UpSample_32')(x)\n",
        "    x = Add(name='Input_Dec_GT_32')([x, x1])\n",
        "    x = green_block(x, 32, name='Dec_GT_32')\n",
        "\n",
        "    ### Blue Block x1 (output filters=32)\n",
        "    x = Conv3D(\n",
        "        filters=32,\n",
        "        kernel_size=(3, 3, 3),\n",
        "        strides=1,\n",
        "        padding='same',\n",
        "        data_format='channels_first',\n",
        "        name='Input_Dec_GT_Output')(x)\n",
        "\n",
        "    ### Output Block\n",
        "    out_GT = Conv3D(\n",
        "        filters=output_channels,  # No. of tumor classes is 3\n",
        "        kernel_size=(1, 1, 1),\n",
        "        strides=1,\n",
        "        data_format='channels_first',\n",
        "        activation='sigmoid',\n",
        "        name='Dec_GT_Output')(x)\n",
        "\n",
        "    ## VAE (Variational Auto Encoder) Part\n",
        "    # -------------------------------------------------------------------------\n",
        "\n",
        "    ### VD Block (Reducing dimensionality of the data)\n",
        "    x = GroupNormalization(groups=8, axis=1, name='Dec_VAE_VD_GN')(x4)\n",
        "    x = Activation('relu', name='Dec_VAE_VD_relu')(x)\n",
        "    x = Conv3D(\n",
        "        filters=16,\n",
        "        kernel_size=(3, 3, 3),\n",
        "        strides=2,\n",
        "        padding='same',\n",
        "        data_format='channels_first',\n",
        "        name='Dec_VAE_VD_Conv3D')(x)\n",
        "\n",
        "    # Not mentioned in the paper, but the author used a Flattening layer here.\n",
        "    x = Flatten(name='Dec_VAE_VD_Flatten')(x)\n",
        "    x = Dense(256, name='Dec_VAE_VD_Dense')(x)\n",
        "\n",
        "    ### VDraw Block (Sampling)\n",
        "    z_mean = Dense(128, name='Dec_VAE_VDraw_Mean')(x)\n",
        "    z_var = Dense(128, name='Dec_VAE_VDraw_Var')(x)\n",
        "    x = Lambda(sampling, name='Dec_VAE_VDraw_Sampling')([z_mean, z_var])\n",
        "\n",
        "    ### VU Block (Upsizing back to a depth of 256)\n",
        "    x = Dense((c//1) * (H//16) * (W//16) * (D//16))(x)\n",
        "    x = Activation('relu')(x)\n",
        "    x = Reshape(((c//1), (H//16), (W//16), (D//16)))(x)\n",
        "    x = Conv3D(\n",
        "        filters=256,\n",
        "        kernel_size=(1, 1, 1),\n",
        "        strides=1,\n",
        "        data_format='channels_first',\n",
        "        name='Dec_VAE_ReduceDepth_256')(x)\n",
        "    x = UpSampling3D(\n",
        "        size=2,\n",
        "        data_format='channels_first',\n",
        "        name='Dec_VAE_UpSample_256')(x)\n",
        "\n",
        "    ### Green Block x1 (output filters=128)\n",
        "    x = Conv3D(\n",
        "        filters=128,\n",
        "        kernel_size=(1, 1, 1),\n",
        "        strides=1,\n",
        "        data_format='channels_first',\n",
        "        name='Dec_VAE_ReduceDepth_128')(x)\n",
        "    x = UpSampling3D(\n",
        "        size=2,\n",
        "        data_format='channels_first',\n",
        "        name='Dec_VAE_UpSample_128')(x)\n",
        "    x = green_block(x, 128, name='Dec_VAE_128')\n",
        "\n",
        "    ### Green Block x1 (output filters=64)\n",
        "    x = Conv3D(\n",
        "        filters=64,\n",
        "        kernel_size=(1, 1, 1),\n",
        "        strides=1,\n",
        "        data_format='channels_first',\n",
        "        name='Dec_VAE_ReduceDepth_64')(x)\n",
        "    x = UpSampling3D(\n",
        "        size=2,\n",
        "        data_format='channels_first',\n",
        "        name='Dec_VAE_UpSample_64')(x)\n",
        "    x = green_block(x, 64, name='Dec_VAE_64')\n",
        "\n",
        "    ### Green Block x1 (output filters=32)\n",
        "    x = Conv3D(\n",
        "        filters=32,\n",
        "        kernel_size=(1, 1, 1),\n",
        "        strides=1,\n",
        "        data_format='channels_first',\n",
        "        name='Dec_VAE_ReduceDepth_32')(x)\n",
        "    x = UpSampling3D(\n",
        "        size=2,\n",
        "        data_format='channels_first',\n",
        "        name='Dec_VAE_UpSample_32')(x)\n",
        "    x = green_block(x, 32, name='Dec_VAE_32')\n",
        "\n",
        "    ### Blue Block x1 (output filters=32)\n",
        "    x = Conv3D(\n",
        "        filters=32,\n",
        "        kernel_size=(3, 3, 3),\n",
        "        strides=1,\n",
        "        padding='same',\n",
        "        data_format='channels_first',\n",
        "        name='Input_Dec_VAE_Output')(x)\n",
        "\n",
        "    ### Output Block\n",
        "    out_VAE = Conv3D(\n",
        "        filters=1,\n",
        "        kernel_size=(1, 1, 1),\n",
        "        strides=1,\n",
        "        data_format='channels_first',\n",
        "        name='Dec_VAE_Output')(x) \n",
        "\n",
        "    # Build and Compile the model\n",
        "    out = out_GT\n",
        "    model = Model(inp, outputs=[out, out_VAE])  # Create the model\n",
        "    model.compile(\n",
        "        Adam(learning_rate=1e-5),\n",
        "        [loss_gt(dice_e), loss_VAE(input_shape, z_mean, z_var, weight_L2=weight_L2, weight_KL=weight_KL)],\n",
        "        metrics=[dice_coefficient]\n",
        "    )\n",
        "\n",
        "    return model\n",
        "    "
      ],
      "metadata": {
        "_uuid": "cd7aa886-4aa9-4de9-9075-2378d31f01af",
        "_cell_guid": "571a62a0-20cd-41b2-a856-de73158173f1",
        "jupyter": {
          "outputs_hidden": false
        },
        "execution": {
          "iopub.status.busy": "2023-01-03T01:13:22.372719Z",
          "iopub.execute_input": "2023-01-03T01:13:22.373038Z",
          "iopub.status.idle": "2023-01-03T01:13:22.431607Z",
          "shell.execute_reply.started": "2023-01-03T01:13:22.373001Z",
          "shell.execute_reply": "2023-01-03T01:13:22.430791Z"
        },
        "trusted": true,
        "id": "er7-2ll082W2"
      },
      "execution_count": 26,
      "outputs": []
    },
    {
      "cell_type": "code",
      "source": [
        "from sklearn.model_selection import train_test_split\n",
        "X_train, X_test, y_train, y_test = train_test_split( t1ce_list, mask_list, test_size=0.10, shuffle = True,random_state=42)"
      ],
      "metadata": {
        "id": "u0XjiP1KkGS9"
      },
      "execution_count": 27,
      "outputs": []
    },
    {
      "cell_type": "code",
      "source": [
        "print(len(X_train))\n",
        "print(len(y_train))\n",
        "print(len(X_test))\n",
        "print(len(y_test))"
      ],
      "metadata": {
        "colab": {
          "base_uri": "https://localhost:8080/"
        },
        "id": "60YPFvFZkIL0",
        "outputId": "dc530d06-1c06-44c8-97ab-c86aede269b4"
      },
      "execution_count": 28,
      "outputs": [
        {
          "output_type": "stream",
          "name": "stdout",
          "text": [
            "332\n",
            "332\n",
            "37\n",
            "37\n"
          ]
        }
      ]
    },
    {
      "cell_type": "code",
      "source": [
        "print(X_train[66])\n",
        "print(y_train[66])\n"
      ],
      "metadata": {
        "colab": {
          "base_uri": "https://localhost:8080/"
        },
        "id": "ML8CEVnvkJyy",
        "outputId": "6dd2c856-5fe2-4b38-9de4-7ca433253e7c"
      },
      "execution_count": 29,
      "outputs": [
        {
          "output_type": "stream",
          "name": "stdout",
          "text": [
            "/content/drive/MyDrive/Brats_2020_dataset/BraTS2020_TrainingData/MICCAI_BraTS2020_TrainingData/BraTS20_Training_259/BraTS20_Training_259_t1ce.nii\n",
            "/content/drive/MyDrive/Brats_2020_dataset/BraTS2020_TrainingData/MICCAI_BraTS2020_TrainingData/BraTS20_Training_259/BraTS20_Training_259_seg.nii\n"
          ]
        }
      ]
    },
    {
      "cell_type": "code",
      "source": [
        "batch_size=1\n",
        "\n",
        "train_img_datagen = imageLoader(X_train,y_train, batch_size)\n",
        "\n",
        "\n",
        "val_img_datagen = imageLoader(X_test,y_test, batch_size)"
      ],
      "metadata": {
        "execution": {
          "iopub.status.busy": "2023-01-03T01:13:22.432748Z",
          "iopub.execute_input": "2023-01-03T01:13:22.433654Z",
          "iopub.status.idle": "2023-01-03T01:13:22.438392Z",
          "shell.execute_reply.started": "2023-01-03T01:13:22.433618Z",
          "shell.execute_reply": "2023-01-03T01:13:22.437259Z"
        },
        "trusted": true,
        "id": "0sevmfrm82W3"
      },
      "execution_count": 30,
      "outputs": []
    },
    {
      "cell_type": "code",
      "source": [
        "from tensorflow.python.framework.ops import disable_eager_execution\n",
        "disable_eager_execution()"
      ],
      "metadata": {
        "execution": {
          "iopub.status.busy": "2023-01-03T01:14:44.639684Z",
          "iopub.execute_input": "2023-01-03T01:14:44.640010Z",
          "iopub.status.idle": "2023-01-03T01:14:44.644508Z",
          "shell.execute_reply.started": "2023-01-03T01:14:44.639982Z",
          "shell.execute_reply": "2023-01-03T01:14:44.643330Z"
        },
        "trusted": true,
        "id": "xpqeQB7z82W6"
      },
      "execution_count": 31,
      "outputs": []
    },
    {
      "cell_type": "code",
      "source": [
        "model = build_model(input_shape=( 1, 128, 128, 128), output_channels=4)"
      ],
      "metadata": {
        "execution": {
          "iopub.status.busy": "2023-01-03T01:14:39.715389Z",
          "iopub.execute_input": "2023-01-03T01:14:39.716329Z",
          "iopub.status.idle": "2023-01-03T01:14:41.784243Z",
          "shell.execute_reply.started": "2023-01-03T01:14:39.716282Z",
          "shell.execute_reply": "2023-01-03T01:14:41.783312Z"
        },
        "trusted": true,
        "id": "D4wgNfVD82W4"
      },
      "execution_count": 32,
      "outputs": []
    },
    {
      "cell_type": "code",
      "source": [
        "model.summary()"
      ],
      "metadata": {
        "trusted": true,
        "colab": {
          "base_uri": "https://localhost:8080/"
        },
        "id": "Y_BStKMq82W4",
        "outputId": "40467a03-ee96-4173-fbf1-119be63cfbde"
      },
      "execution_count": 33,
      "outputs": [
        {
          "output_type": "stream",
          "name": "stdout",
          "text": [
            "Model: \"model\"\n",
            "__________________________________________________________________________________________________\n",
            " Layer (type)                   Output Shape         Param #     Connected to                     \n",
            "==================================================================================================\n",
            " input_1 (InputLayer)           [(None, 1, 128, 128  0           []                               \n",
            "                                , 128)]                                                           \n",
            "                                                                                                  \n",
            " Input_x1 (Conv3D)              (None, 32, 128, 128  896         ['input_1[0][0]']                \n",
            "                                , 128)                                                            \n",
            "                                                                                                  \n",
            " spatial_dropout3d (SpatialDrop  (None, 32, 128, 128  0          ['Input_x1[0][0]']               \n",
            " out3D)                         , 128)                                                            \n",
            "                                                                                                  \n",
            " GroupNorm_1_x1 (GroupNormaliza  (None, 32, 128, 128  64         ['spatial_dropout3d[0][0]']      \n",
            " tion)                          , 128)                                                            \n",
            "                                                                                                  \n",
            " Relu_1_x1 (Activation)         (None, 32, 128, 128  0           ['GroupNorm_1_x1[0][0]']         \n",
            "                                , 128)                                                            \n",
            "                                                                                                  \n",
            " Conv3D_1_x1 (Conv3D)           (None, 32, 128, 128  27680       ['Relu_1_x1[0][0]']              \n",
            "                                , 128)                                                            \n",
            "                                                                                                  \n",
            " GroupNorm_2_x1 (GroupNormaliza  (None, 32, 128, 128  64         ['Conv3D_1_x1[0][0]']            \n",
            " tion)                          , 128)                                                            \n",
            "                                                                                                  \n",
            " Relu_2_x1 (Activation)         (None, 32, 128, 128  0           ['GroupNorm_2_x1[0][0]']         \n",
            "                                , 128)                                                            \n",
            "                                                                                                  \n",
            " Conv3D_2_x1 (Conv3D)           (None, 32, 128, 128  27680       ['Relu_2_x1[0][0]']              \n",
            "                                , 128)                                                            \n",
            "                                                                                                  \n",
            " Res_x1 (Conv3D)                (None, 32, 128, 128  1056        ['spatial_dropout3d[0][0]']      \n",
            "                                , 128)                                                            \n",
            "                                                                                                  \n",
            " Out_x1 (Add)                   (None, 32, 128, 128  0           ['Conv3D_2_x1[0][0]',            \n",
            "                                , 128)                            'Res_x1[0][0]']                 \n",
            "                                                                                                  \n",
            " Enc_DownSample_32 (Conv3D)     (None, 32, 64, 64,   27680       ['Out_x1[0][0]']                 \n",
            "                                64)                                                               \n",
            "                                                                                                  \n",
            " GroupNorm_1_Enc_64_1 (GroupNor  (None, 32, 64, 64,   64         ['Enc_DownSample_32[0][0]']      \n",
            " malization)                    64)                                                               \n",
            "                                                                                                  \n",
            " Relu_1_Enc_64_1 (Activation)   (None, 32, 64, 64,   0           ['GroupNorm_1_Enc_64_1[0][0]']   \n",
            "                                64)                                                               \n",
            "                                                                                                  \n",
            " Conv3D_1_Enc_64_1 (Conv3D)     (None, 64, 64, 64,   55360       ['Relu_1_Enc_64_1[0][0]']        \n",
            "                                64)                                                               \n",
            "                                                                                                  \n",
            " GroupNorm_2_Enc_64_1 (GroupNor  (None, 64, 64, 64,   128        ['Conv3D_1_Enc_64_1[0][0]']      \n",
            " malization)                    64)                                                               \n",
            "                                                                                                  \n",
            " Relu_2_Enc_64_1 (Activation)   (None, 64, 64, 64,   0           ['GroupNorm_2_Enc_64_1[0][0]']   \n",
            "                                64)                                                               \n",
            "                                                                                                  \n",
            " Conv3D_2_Enc_64_1 (Conv3D)     (None, 64, 64, 64,   110656      ['Relu_2_Enc_64_1[0][0]']        \n",
            "                                64)                                                               \n",
            "                                                                                                  \n",
            " Res_Enc_64_1 (Conv3D)          (None, 64, 64, 64,   2112        ['Enc_DownSample_32[0][0]']      \n",
            "                                64)                                                               \n",
            "                                                                                                  \n",
            " Out_Enc_64_1 (Add)             (None, 64, 64, 64,   0           ['Conv3D_2_Enc_64_1[0][0]',      \n",
            "                                64)                               'Res_Enc_64_1[0][0]']           \n",
            "                                                                                                  \n",
            " GroupNorm_1_x2 (GroupNormaliza  (None, 64, 64, 64,   128        ['Out_Enc_64_1[0][0]']           \n",
            " tion)                          64)                                                               \n",
            "                                                                                                  \n",
            " Relu_1_x2 (Activation)         (None, 64, 64, 64,   0           ['GroupNorm_1_x2[0][0]']         \n",
            "                                64)                                                               \n",
            "                                                                                                  \n",
            " Conv3D_1_x2 (Conv3D)           (None, 64, 64, 64,   110656      ['Relu_1_x2[0][0]']              \n",
            "                                64)                                                               \n",
            "                                                                                                  \n",
            " GroupNorm_2_x2 (GroupNormaliza  (None, 64, 64, 64,   128        ['Conv3D_1_x2[0][0]']            \n",
            " tion)                          64)                                                               \n",
            "                                                                                                  \n",
            " Relu_2_x2 (Activation)         (None, 64, 64, 64,   0           ['GroupNorm_2_x2[0][0]']         \n",
            "                                64)                                                               \n",
            "                                                                                                  \n",
            " Conv3D_2_x2 (Conv3D)           (None, 64, 64, 64,   110656      ['Relu_2_x2[0][0]']              \n",
            "                                64)                                                               \n",
            "                                                                                                  \n",
            " Res_x2 (Conv3D)                (None, 64, 64, 64,   4160        ['Out_Enc_64_1[0][0]']           \n",
            "                                64)                                                               \n",
            "                                                                                                  \n",
            " Out_x2 (Add)                   (None, 64, 64, 64,   0           ['Conv3D_2_x2[0][0]',            \n",
            "                                64)                               'Res_x2[0][0]']                 \n",
            "                                                                                                  \n",
            " Enc_DownSample_64 (Conv3D)     (None, 64, 32, 32,   110656      ['Out_x2[0][0]']                 \n",
            "                                32)                                                               \n",
            "                                                                                                  \n",
            " GroupNorm_1_Enc_128_1 (GroupNo  (None, 64, 32, 32,   128        ['Enc_DownSample_64[0][0]']      \n",
            " rmalization)                   32)                                                               \n",
            "                                                                                                  \n",
            " Relu_1_Enc_128_1 (Activation)  (None, 64, 32, 32,   0           ['GroupNorm_1_Enc_128_1[0][0]']  \n",
            "                                32)                                                               \n",
            "                                                                                                  \n",
            " Conv3D_1_Enc_128_1 (Conv3D)    (None, 128, 32, 32,  221312      ['Relu_1_Enc_128_1[0][0]']       \n",
            "                                 32)                                                              \n",
            "                                                                                                  \n",
            " GroupNorm_2_Enc_128_1 (GroupNo  (None, 128, 32, 32,  256        ['Conv3D_1_Enc_128_1[0][0]']     \n",
            " rmalization)                    32)                                                              \n",
            "                                                                                                  \n",
            " Relu_2_Enc_128_1 (Activation)  (None, 128, 32, 32,  0           ['GroupNorm_2_Enc_128_1[0][0]']  \n",
            "                                 32)                                                              \n",
            "                                                                                                  \n",
            " Conv3D_2_Enc_128_1 (Conv3D)    (None, 128, 32, 32,  442496      ['Relu_2_Enc_128_1[0][0]']       \n",
            "                                 32)                                                              \n",
            "                                                                                                  \n",
            " Res_Enc_128_1 (Conv3D)         (None, 128, 32, 32,  8320        ['Enc_DownSample_64[0][0]']      \n",
            "                                 32)                                                              \n",
            "                                                                                                  \n",
            " Out_Enc_128_1 (Add)            (None, 128, 32, 32,  0           ['Conv3D_2_Enc_128_1[0][0]',     \n",
            "                                 32)                              'Res_Enc_128_1[0][0]']          \n",
            "                                                                                                  \n",
            " GroupNorm_1_x3 (GroupNormaliza  (None, 128, 32, 32,  256        ['Out_Enc_128_1[0][0]']          \n",
            " tion)                           32)                                                              \n",
            "                                                                                                  \n",
            " Relu_1_x3 (Activation)         (None, 128, 32, 32,  0           ['GroupNorm_1_x3[0][0]']         \n",
            "                                 32)                                                              \n",
            "                                                                                                  \n",
            " Conv3D_1_x3 (Conv3D)           (None, 128, 32, 32,  442496      ['Relu_1_x3[0][0]']              \n",
            "                                 32)                                                              \n",
            "                                                                                                  \n",
            " GroupNorm_2_x3 (GroupNormaliza  (None, 128, 32, 32,  256        ['Conv3D_1_x3[0][0]']            \n",
            " tion)                           32)                                                              \n",
            "                                                                                                  \n",
            " Relu_2_x3 (Activation)         (None, 128, 32, 32,  0           ['GroupNorm_2_x3[0][0]']         \n",
            "                                 32)                                                              \n",
            "                                                                                                  \n",
            " Conv3D_2_x3 (Conv3D)           (None, 128, 32, 32,  442496      ['Relu_2_x3[0][0]']              \n",
            "                                 32)                                                              \n",
            "                                                                                                  \n",
            " Res_x3 (Conv3D)                (None, 128, 32, 32,  16512       ['Out_Enc_128_1[0][0]']          \n",
            "                                 32)                                                              \n",
            "                                                                                                  \n",
            " Out_x3 (Add)                   (None, 128, 32, 32,  0           ['Conv3D_2_x3[0][0]',            \n",
            "                                 32)                              'Res_x3[0][0]']                 \n",
            "                                                                                                  \n",
            " Enc_DownSample_128 (Conv3D)    (None, 128, 16, 16,  442496      ['Out_x3[0][0]']                 \n",
            "                                 16)                                                              \n",
            "                                                                                                  \n",
            " GroupNorm_1_Enc_256_1 (GroupNo  (None, 128, 16, 16,  256        ['Enc_DownSample_128[0][0]']     \n",
            " rmalization)                    16)                                                              \n",
            "                                                                                                  \n",
            " Relu_1_Enc_256_1 (Activation)  (None, 128, 16, 16,  0           ['GroupNorm_1_Enc_256_1[0][0]']  \n",
            "                                 16)                                                              \n",
            "                                                                                                  \n",
            " Conv3D_1_Enc_256_1 (Conv3D)    (None, 256, 16, 16,  884992      ['Relu_1_Enc_256_1[0][0]']       \n",
            "                                 16)                                                              \n",
            "                                                                                                  \n",
            " GroupNorm_2_Enc_256_1 (GroupNo  (None, 256, 16, 16,  512        ['Conv3D_1_Enc_256_1[0][0]']     \n",
            " rmalization)                    16)                                                              \n",
            "                                                                                                  \n",
            " Relu_2_Enc_256_1 (Activation)  (None, 256, 16, 16,  0           ['GroupNorm_2_Enc_256_1[0][0]']  \n",
            "                                 16)                                                              \n",
            "                                                                                                  \n",
            " Conv3D_2_Enc_256_1 (Conv3D)    (None, 256, 16, 16,  1769728     ['Relu_2_Enc_256_1[0][0]']       \n",
            "                                 16)                                                              \n",
            "                                                                                                  \n",
            " Res_Enc_256_1 (Conv3D)         (None, 256, 16, 16,  33024       ['Enc_DownSample_128[0][0]']     \n",
            "                                 16)                                                              \n",
            "                                                                                                  \n",
            " Out_Enc_256_1 (Add)            (None, 256, 16, 16,  0           ['Conv3D_2_Enc_256_1[0][0]',     \n",
            "                                 16)                              'Res_Enc_256_1[0][0]']          \n",
            "                                                                                                  \n",
            " GroupNorm_1_Enc_256_2 (GroupNo  (None, 256, 16, 16,  512        ['Out_Enc_256_1[0][0]']          \n",
            " rmalization)                    16)                                                              \n",
            "                                                                                                  \n",
            " Relu_1_Enc_256_2 (Activation)  (None, 256, 16, 16,  0           ['GroupNorm_1_Enc_256_2[0][0]']  \n",
            "                                 16)                                                              \n",
            "                                                                                                  \n",
            " Conv3D_1_Enc_256_2 (Conv3D)    (None, 256, 16, 16,  1769728     ['Relu_1_Enc_256_2[0][0]']       \n",
            "                                 16)                                                              \n",
            "                                                                                                  \n",
            " GroupNorm_2_Enc_256_2 (GroupNo  (None, 256, 16, 16,  512        ['Conv3D_1_Enc_256_2[0][0]']     \n",
            " rmalization)                    16)                                                              \n",
            "                                                                                                  \n",
            " Relu_2_Enc_256_2 (Activation)  (None, 256, 16, 16,  0           ['GroupNorm_2_Enc_256_2[0][0]']  \n",
            "                                 16)                                                              \n",
            "                                                                                                  \n",
            " Conv3D_2_Enc_256_2 (Conv3D)    (None, 256, 16, 16,  1769728     ['Relu_2_Enc_256_2[0][0]']       \n",
            "                                 16)                                                              \n",
            "                                                                                                  \n",
            " Res_Enc_256_2 (Conv3D)         (None, 256, 16, 16,  65792       ['Out_Enc_256_1[0][0]']          \n",
            "                                 16)                                                              \n",
            "                                                                                                  \n",
            " Out_Enc_256_2 (Add)            (None, 256, 16, 16,  0           ['Conv3D_2_Enc_256_2[0][0]',     \n",
            "                                 16)                              'Res_Enc_256_2[0][0]']          \n",
            "                                                                                                  \n",
            " GroupNorm_1_Enc_256_3 (GroupNo  (None, 256, 16, 16,  512        ['Out_Enc_256_2[0][0]']          \n",
            " rmalization)                    16)                                                              \n",
            "                                                                                                  \n",
            " Relu_1_Enc_256_3 (Activation)  (None, 256, 16, 16,  0           ['GroupNorm_1_Enc_256_3[0][0]']  \n",
            "                                 16)                                                              \n",
            "                                                                                                  \n",
            " Conv3D_1_Enc_256_3 (Conv3D)    (None, 256, 16, 16,  1769728     ['Relu_1_Enc_256_3[0][0]']       \n",
            "                                 16)                                                              \n",
            "                                                                                                  \n",
            " GroupNorm_2_Enc_256_3 (GroupNo  (None, 256, 16, 16,  512        ['Conv3D_1_Enc_256_3[0][0]']     \n",
            " rmalization)                    16)                                                              \n",
            "                                                                                                  \n",
            " Relu_2_Enc_256_3 (Activation)  (None, 256, 16, 16,  0           ['GroupNorm_2_Enc_256_3[0][0]']  \n",
            "                                 16)                                                              \n",
            "                                                                                                  \n",
            " Conv3D_2_Enc_256_3 (Conv3D)    (None, 256, 16, 16,  1769728     ['Relu_2_Enc_256_3[0][0]']       \n",
            "                                 16)                                                              \n",
            "                                                                                                  \n",
            " Res_Enc_256_3 (Conv3D)         (None, 256, 16, 16,  65792       ['Out_Enc_256_2[0][0]']          \n",
            "                                 16)                                                              \n",
            "                                                                                                  \n",
            " Out_Enc_256_3 (Add)            (None, 256, 16, 16,  0           ['Conv3D_2_Enc_256_3[0][0]',     \n",
            "                                 16)                              'Res_Enc_256_3[0][0]']          \n",
            "                                                                                                  \n",
            " GroupNorm_1_x4 (GroupNormaliza  (None, 256, 16, 16,  512        ['Out_Enc_256_3[0][0]']          \n",
            " tion)                           16)                                                              \n",
            "                                                                                                  \n",
            " Relu_1_x4 (Activation)         (None, 256, 16, 16,  0           ['GroupNorm_1_x4[0][0]']         \n",
            "                                 16)                                                              \n",
            "                                                                                                  \n",
            " Conv3D_1_x4 (Conv3D)           (None, 256, 16, 16,  1769728     ['Relu_1_x4[0][0]']              \n",
            "                                 16)                                                              \n",
            "                                                                                                  \n",
            " GroupNorm_2_x4 (GroupNormaliza  (None, 256, 16, 16,  512        ['Conv3D_1_x4[0][0]']            \n",
            " tion)                           16)                                                              \n",
            "                                                                                                  \n",
            " Relu_2_x4 (Activation)         (None, 256, 16, 16,  0           ['GroupNorm_2_x4[0][0]']         \n",
            "                                 16)                                                              \n",
            "                                                                                                  \n",
            " Conv3D_2_x4 (Conv3D)           (None, 256, 16, 16,  1769728     ['Relu_2_x4[0][0]']              \n",
            "                                 16)                                                              \n",
            "                                                                                                  \n",
            " Res_x4 (Conv3D)                (None, 256, 16, 16,  65792       ['Out_Enc_256_3[0][0]']          \n",
            "                                 16)                                                              \n",
            "                                                                                                  \n",
            " Out_x4 (Add)                   (None, 256, 16, 16,  0           ['Conv3D_2_x4[0][0]',            \n",
            "                                 16)                              'Res_x4[0][0]']                 \n",
            "                                                                                                  \n",
            " Dec_VAE_VD_GN (GroupNormalizat  (None, 256, 16, 16,  512        ['Out_x4[0][0]']                 \n",
            " ion)                            16)                                                              \n",
            "                                                                                                  \n",
            " Dec_VAE_VD_relu (Activation)   (None, 256, 16, 16,  0           ['Dec_VAE_VD_GN[0][0]']          \n",
            "                                 16)                                                              \n",
            "                                                                                                  \n",
            " Dec_VAE_VD_Conv3D (Conv3D)     (None, 16, 8, 8, 8)  110608      ['Dec_VAE_VD_relu[0][0]']        \n",
            "                                                                                                  \n",
            " Dec_VAE_VD_Flatten (Flatten)   (None, 8192)         0           ['Dec_VAE_VD_Conv3D[0][0]']      \n",
            "                                                                                                  \n",
            " Dec_VAE_VD_Dense (Dense)       (None, 256)          2097408     ['Dec_VAE_VD_Flatten[0][0]']     \n",
            "                                                                                                  \n",
            " Dec_VAE_VDraw_Mean (Dense)     (None, 128)          32896       ['Dec_VAE_VD_Dense[0][0]']       \n",
            "                                                                                                  \n",
            " Dec_VAE_VDraw_Var (Dense)      (None, 128)          32896       ['Dec_VAE_VD_Dense[0][0]']       \n",
            "                                                                                                  \n",
            " Dec_VAE_VDraw_Sampling (Lambda  (None, 128)         0           ['Dec_VAE_VDraw_Mean[0][0]',     \n",
            " )                                                                'Dec_VAE_VDraw_Var[0][0]']      \n",
            "                                                                                                  \n",
            " dense (Dense)                  (None, 512)          66048       ['Dec_VAE_VDraw_Sampling[0][0]'] \n",
            "                                                                                                  \n",
            " activation (Activation)        (None, 512)          0           ['dense[0][0]']                  \n",
            "                                                                                                  \n",
            " Dec_GT_ReduceDepth_128 (Conv3D  (None, 128, 16, 16,  32896      ['Out_x4[0][0]']                 \n",
            " )                               16)                                                              \n",
            "                                                                                                  \n",
            " reshape (Reshape)              (None, 1, 8, 8, 8)   0           ['activation[0][0]']             \n",
            "                                                                                                  \n",
            " Dec_GT_UpSample_128 (UpSamplin  (None, 128, 32, 32,  0          ['Dec_GT_ReduceDepth_128[0][0]'] \n",
            " g3D)                            32)                                                              \n",
            "                                                                                                  \n",
            " Dec_VAE_ReduceDepth_256 (Conv3  (None, 256, 8, 8, 8  512        ['reshape[0][0]']                \n",
            " D)                             )                                                                 \n",
            "                                                                                                  \n",
            " Input_Dec_GT_128 (Add)         (None, 128, 32, 32,  0           ['Dec_GT_UpSample_128[0][0]',    \n",
            "                                 32)                              'Out_x3[0][0]']                 \n",
            "                                                                                                  \n",
            " Dec_VAE_UpSample_256 (UpSampli  (None, 256, 16, 16,  0          ['Dec_VAE_ReduceDepth_256[0][0]']\n",
            " ng3D)                           16)                                                              \n",
            "                                                                                                  \n",
            " GroupNorm_1_Dec_GT_128 (GroupN  (None, 128, 32, 32,  256        ['Input_Dec_GT_128[0][0]']       \n",
            " ormalization)                   32)                                                              \n",
            "                                                                                                  \n",
            " Dec_VAE_ReduceDepth_128 (Conv3  (None, 128, 16, 16,  32896      ['Dec_VAE_UpSample_256[0][0]']   \n",
            " D)                              16)                                                              \n",
            "                                                                                                  \n",
            " Relu_1_Dec_GT_128 (Activation)  (None, 128, 32, 32,  0          ['GroupNorm_1_Dec_GT_128[0][0]'] \n",
            "                                 32)                                                              \n",
            "                                                                                                  \n",
            " Dec_VAE_UpSample_128 (UpSampli  (None, 128, 32, 32,  0          ['Dec_VAE_ReduceDepth_128[0][0]']\n",
            " ng3D)                           32)                                                              \n",
            "                                                                                                  \n",
            " Conv3D_1_Dec_GT_128 (Conv3D)   (None, 128, 32, 32,  442496      ['Relu_1_Dec_GT_128[0][0]']      \n",
            "                                 32)                                                              \n",
            "                                                                                                  \n",
            " GroupNorm_1_Dec_VAE_128 (Group  (None, 128, 32, 32,  256        ['Dec_VAE_UpSample_128[0][0]']   \n",
            " Normalization)                  32)                                                              \n",
            "                                                                                                  \n",
            " GroupNorm_2_Dec_GT_128 (GroupN  (None, 128, 32, 32,  256        ['Conv3D_1_Dec_GT_128[0][0]']    \n",
            " ormalization)                   32)                                                              \n",
            "                                                                                                  \n",
            " Relu_1_Dec_VAE_128 (Activation  (None, 128, 32, 32,  0          ['GroupNorm_1_Dec_VAE_128[0][0]']\n",
            " )                               32)                                                              \n",
            "                                                                                                  \n",
            " Relu_2_Dec_GT_128 (Activation)  (None, 128, 32, 32,  0          ['GroupNorm_2_Dec_GT_128[0][0]'] \n",
            "                                 32)                                                              \n",
            "                                                                                                  \n",
            " Conv3D_1_Dec_VAE_128 (Conv3D)  (None, 128, 32, 32,  442496      ['Relu_1_Dec_VAE_128[0][0]']     \n",
            "                                 32)                                                              \n",
            "                                                                                                  \n",
            " Conv3D_2_Dec_GT_128 (Conv3D)   (None, 128, 32, 32,  442496      ['Relu_2_Dec_GT_128[0][0]']      \n",
            "                                 32)                                                              \n",
            "                                                                                                  \n",
            " Res_Dec_GT_128 (Conv3D)        (None, 128, 32, 32,  16512       ['Input_Dec_GT_128[0][0]']       \n",
            "                                 32)                                                              \n",
            "                                                                                                  \n",
            " GroupNorm_2_Dec_VAE_128 (Group  (None, 128, 32, 32,  256        ['Conv3D_1_Dec_VAE_128[0][0]']   \n",
            " Normalization)                  32)                                                              \n",
            "                                                                                                  \n",
            " Out_Dec_GT_128 (Add)           (None, 128, 32, 32,  0           ['Conv3D_2_Dec_GT_128[0][0]',    \n",
            "                                 32)                              'Res_Dec_GT_128[0][0]']         \n",
            "                                                                                                  \n",
            " Relu_2_Dec_VAE_128 (Activation  (None, 128, 32, 32,  0          ['GroupNorm_2_Dec_VAE_128[0][0]']\n",
            " )                               32)                                                              \n",
            "                                                                                                  \n",
            " Dec_GT_ReduceDepth_64 (Conv3D)  (None, 64, 32, 32,   8256       ['Out_Dec_GT_128[0][0]']         \n",
            "                                32)                                                               \n",
            "                                                                                                  \n",
            " Conv3D_2_Dec_VAE_128 (Conv3D)  (None, 128, 32, 32,  442496      ['Relu_2_Dec_VAE_128[0][0]']     \n",
            "                                 32)                                                              \n",
            "                                                                                                  \n",
            " Res_Dec_VAE_128 (Conv3D)       (None, 128, 32, 32,  16512       ['Dec_VAE_UpSample_128[0][0]']   \n",
            "                                 32)                                                              \n",
            "                                                                                                  \n",
            " Dec_GT_UpSample_64 (UpSampling  (None, 64, 64, 64,   0          ['Dec_GT_ReduceDepth_64[0][0]']  \n",
            " 3D)                            64)                                                               \n",
            "                                                                                                  \n",
            " Out_Dec_VAE_128 (Add)          (None, 128, 32, 32,  0           ['Conv3D_2_Dec_VAE_128[0][0]',   \n",
            "                                 32)                              'Res_Dec_VAE_128[0][0]']        \n",
            "                                                                                                  \n",
            " Input_Dec_GT_64 (Add)          (None, 64, 64, 64,   0           ['Dec_GT_UpSample_64[0][0]',     \n",
            "                                64)                               'Out_x2[0][0]']                 \n",
            "                                                                                                  \n",
            " Dec_VAE_ReduceDepth_64 (Conv3D  (None, 64, 32, 32,   8256       ['Out_Dec_VAE_128[0][0]']        \n",
            " )                              32)                                                               \n",
            "                                                                                                  \n",
            " GroupNorm_1_Dec_GT_64 (GroupNo  (None, 64, 64, 64,   128        ['Input_Dec_GT_64[0][0]']        \n",
            " rmalization)                   64)                                                               \n",
            "                                                                                                  \n",
            " Dec_VAE_UpSample_64 (UpSamplin  (None, 64, 64, 64,   0          ['Dec_VAE_ReduceDepth_64[0][0]'] \n",
            " g3D)                           64)                                                               \n",
            "                                                                                                  \n",
            " Relu_1_Dec_GT_64 (Activation)  (None, 64, 64, 64,   0           ['GroupNorm_1_Dec_GT_64[0][0]']  \n",
            "                                64)                                                               \n",
            "                                                                                                  \n",
            " GroupNorm_1_Dec_VAE_64 (GroupN  (None, 64, 64, 64,   128        ['Dec_VAE_UpSample_64[0][0]']    \n",
            " ormalization)                  64)                                                               \n",
            "                                                                                                  \n",
            " Conv3D_1_Dec_GT_64 (Conv3D)    (None, 64, 64, 64,   110656      ['Relu_1_Dec_GT_64[0][0]']       \n",
            "                                64)                                                               \n",
            "                                                                                                  \n",
            " Relu_1_Dec_VAE_64 (Activation)  (None, 64, 64, 64,   0          ['GroupNorm_1_Dec_VAE_64[0][0]'] \n",
            "                                64)                                                               \n",
            "                                                                                                  \n",
            " GroupNorm_2_Dec_GT_64 (GroupNo  (None, 64, 64, 64,   128        ['Conv3D_1_Dec_GT_64[0][0]']     \n",
            " rmalization)                   64)                                                               \n",
            "                                                                                                  \n",
            " Conv3D_1_Dec_VAE_64 (Conv3D)   (None, 64, 64, 64,   110656      ['Relu_1_Dec_VAE_64[0][0]']      \n",
            "                                64)                                                               \n",
            "                                                                                                  \n",
            " Relu_2_Dec_GT_64 (Activation)  (None, 64, 64, 64,   0           ['GroupNorm_2_Dec_GT_64[0][0]']  \n",
            "                                64)                                                               \n",
            "                                                                                                  \n",
            " GroupNorm_2_Dec_VAE_64 (GroupN  (None, 64, 64, 64,   128        ['Conv3D_1_Dec_VAE_64[0][0]']    \n",
            " ormalization)                  64)                                                               \n",
            "                                                                                                  \n",
            " Conv3D_2_Dec_GT_64 (Conv3D)    (None, 64, 64, 64,   110656      ['Relu_2_Dec_GT_64[0][0]']       \n",
            "                                64)                                                               \n",
            "                                                                                                  \n",
            " Res_Dec_GT_64 (Conv3D)         (None, 64, 64, 64,   4160        ['Input_Dec_GT_64[0][0]']        \n",
            "                                64)                                                               \n",
            "                                                                                                  \n",
            " Relu_2_Dec_VAE_64 (Activation)  (None, 64, 64, 64,   0          ['GroupNorm_2_Dec_VAE_64[0][0]'] \n",
            "                                64)                                                               \n",
            "                                                                                                  \n",
            " Out_Dec_GT_64 (Add)            (None, 64, 64, 64,   0           ['Conv3D_2_Dec_GT_64[0][0]',     \n",
            "                                64)                               'Res_Dec_GT_64[0][0]']          \n",
            "                                                                                                  \n",
            " Conv3D_2_Dec_VAE_64 (Conv3D)   (None, 64, 64, 64,   110656      ['Relu_2_Dec_VAE_64[0][0]']      \n",
            "                                64)                                                               \n",
            "                                                                                                  \n",
            " Res_Dec_VAE_64 (Conv3D)        (None, 64, 64, 64,   4160        ['Dec_VAE_UpSample_64[0][0]']    \n",
            "                                64)                                                               \n",
            "                                                                                                  \n",
            " Dec_GT_ReduceDepth_32 (Conv3D)  (None, 32, 64, 64,   2080       ['Out_Dec_GT_64[0][0]']          \n",
            "                                64)                                                               \n",
            "                                                                                                  \n",
            " Out_Dec_VAE_64 (Add)           (None, 64, 64, 64,   0           ['Conv3D_2_Dec_VAE_64[0][0]',    \n",
            "                                64)                               'Res_Dec_VAE_64[0][0]']         \n",
            "                                                                                                  \n",
            " Dec_GT_UpSample_32 (UpSampling  (None, 32, 128, 128  0          ['Dec_GT_ReduceDepth_32[0][0]']  \n",
            " 3D)                            , 128)                                                            \n",
            "                                                                                                  \n",
            " Dec_VAE_ReduceDepth_32 (Conv3D  (None, 32, 64, 64,   2080       ['Out_Dec_VAE_64[0][0]']         \n",
            " )                              64)                                                               \n",
            "                                                                                                  \n",
            " Input_Dec_GT_32 (Add)          (None, 32, 128, 128  0           ['Dec_GT_UpSample_32[0][0]',     \n",
            "                                , 128)                            'Out_x1[0][0]']                 \n",
            "                                                                                                  \n",
            " Dec_VAE_UpSample_32 (UpSamplin  (None, 32, 128, 128  0          ['Dec_VAE_ReduceDepth_32[0][0]'] \n",
            " g3D)                           , 128)                                                            \n",
            "                                                                                                  \n",
            " GroupNorm_1_Dec_GT_32 (GroupNo  (None, 32, 128, 128  64         ['Input_Dec_GT_32[0][0]']        \n",
            " rmalization)                   , 128)                                                            \n",
            "                                                                                                  \n",
            " GroupNorm_1_Dec_VAE_32 (GroupN  (None, 32, 128, 128  64         ['Dec_VAE_UpSample_32[0][0]']    \n",
            " ormalization)                  , 128)                                                            \n",
            "                                                                                                  \n",
            " Relu_1_Dec_GT_32 (Activation)  (None, 32, 128, 128  0           ['GroupNorm_1_Dec_GT_32[0][0]']  \n",
            "                                , 128)                                                            \n",
            "                                                                                                  \n",
            " Relu_1_Dec_VAE_32 (Activation)  (None, 32, 128, 128  0          ['GroupNorm_1_Dec_VAE_32[0][0]'] \n",
            "                                , 128)                                                            \n",
            "                                                                                                  \n",
            " Conv3D_1_Dec_GT_32 (Conv3D)    (None, 32, 128, 128  27680       ['Relu_1_Dec_GT_32[0][0]']       \n",
            "                                , 128)                                                            \n",
            "                                                                                                  \n",
            " Conv3D_1_Dec_VAE_32 (Conv3D)   (None, 32, 128, 128  27680       ['Relu_1_Dec_VAE_32[0][0]']      \n",
            "                                , 128)                                                            \n",
            "                                                                                                  \n",
            " GroupNorm_2_Dec_GT_32 (GroupNo  (None, 32, 128, 128  64         ['Conv3D_1_Dec_GT_32[0][0]']     \n",
            " rmalization)                   , 128)                                                            \n",
            "                                                                                                  \n",
            " GroupNorm_2_Dec_VAE_32 (GroupN  (None, 32, 128, 128  64         ['Conv3D_1_Dec_VAE_32[0][0]']    \n",
            " ormalization)                  , 128)                                                            \n",
            "                                                                                                  \n",
            " Relu_2_Dec_GT_32 (Activation)  (None, 32, 128, 128  0           ['GroupNorm_2_Dec_GT_32[0][0]']  \n",
            "                                , 128)                                                            \n",
            "                                                                                                  \n",
            " Relu_2_Dec_VAE_32 (Activation)  (None, 32, 128, 128  0          ['GroupNorm_2_Dec_VAE_32[0][0]'] \n",
            "                                , 128)                                                            \n",
            "                                                                                                  \n",
            " Conv3D_2_Dec_GT_32 (Conv3D)    (None, 32, 128, 128  27680       ['Relu_2_Dec_GT_32[0][0]']       \n",
            "                                , 128)                                                            \n",
            "                                                                                                  \n",
            " Res_Dec_GT_32 (Conv3D)         (None, 32, 128, 128  1056        ['Input_Dec_GT_32[0][0]']        \n",
            "                                , 128)                                                            \n",
            "                                                                                                  \n",
            " Conv3D_2_Dec_VAE_32 (Conv3D)   (None, 32, 128, 128  27680       ['Relu_2_Dec_VAE_32[0][0]']      \n",
            "                                , 128)                                                            \n",
            "                                                                                                  \n",
            " Res_Dec_VAE_32 (Conv3D)        (None, 32, 128, 128  1056        ['Dec_VAE_UpSample_32[0][0]']    \n",
            "                                , 128)                                                            \n",
            "                                                                                                  \n",
            " Out_Dec_GT_32 (Add)            (None, 32, 128, 128  0           ['Conv3D_2_Dec_GT_32[0][0]',     \n",
            "                                , 128)                            'Res_Dec_GT_32[0][0]']          \n",
            "                                                                                                  \n",
            " Out_Dec_VAE_32 (Add)           (None, 32, 128, 128  0           ['Conv3D_2_Dec_VAE_32[0][0]',    \n",
            "                                , 128)                            'Res_Dec_VAE_32[0][0]']         \n",
            "                                                                                                  \n",
            " Input_Dec_GT_Output (Conv3D)   (None, 32, 128, 128  27680       ['Out_Dec_GT_32[0][0]']          \n",
            "                                , 128)                                                            \n",
            "                                                                                                  \n",
            " Input_Dec_VAE_Output (Conv3D)  (None, 32, 128, 128  27680       ['Out_Dec_VAE_32[0][0]']         \n",
            "                                , 128)                                                            \n",
            "                                                                                                  \n",
            " Dec_GT_Output (Conv3D)         (None, 4, 128, 128,  132         ['Input_Dec_GT_Output[0][0]']    \n",
            "                                 128)                                                             \n",
            "                                                                                                  \n",
            " Dec_VAE_Output (Conv3D)        (None, 1, 128, 128,  33          ['Input_Dec_VAE_Output[0][0]']   \n",
            "                                 128)                                                             \n",
            "                                                                                                  \n",
            "==================================================================================================\n",
            "Total params: 20,965,621\n",
            "Trainable params: 20,965,621\n",
            "Non-trainable params: 0\n",
            "__________________________________________________________________________________________________\n"
          ]
        }
      ]
    },
    {
      "cell_type": "code",
      "source": [
        "# os.mkdir('/content/drive/MyDrive/Colab Notebooks/Deep_learning_project/3d_unet_VAE/check_point')"
      ],
      "metadata": {
        "execution": {
          "iopub.status.busy": "2023-01-03T01:13:27.175222Z",
          "iopub.execute_input": "2023-01-03T01:13:27.176167Z",
          "iopub.status.idle": "2023-01-03T01:13:27.192290Z",
          "shell.execute_reply.started": "2023-01-03T01:13:27.176131Z",
          "shell.execute_reply": "2023-01-03T01:13:27.191187Z"
        },
        "trusted": true,
        "id": "RJ5pK0SF82W4"
      },
      "execution_count": 34,
      "outputs": []
    },
    {
      "cell_type": "code",
      "source": [
        "import tensorflow as tf\n",
        "checkpoint_filepath = '/content/drive/MyDrive/3d_unet_VAE/new_weights/3d_unet_VAE_weights'\n",
        "model_checkpoint_callback = tf.keras.callbacks.ModelCheckpoint(\n",
        "    filepath=checkpoint_filepath,\n",
        "    monitor='loss',\n",
        "    save_freq='epoch',\n",
        "    save_weights_only=True,\n",
        "    )"
      ],
      "metadata": {
        "execution": {
          "iopub.status.busy": "2023-01-03T01:14:43.878065Z",
          "iopub.execute_input": "2023-01-03T01:14:43.878456Z",
          "iopub.status.idle": "2023-01-03T01:14:43.884370Z",
          "shell.execute_reply.started": "2023-01-03T01:14:43.878423Z",
          "shell.execute_reply": "2023-01-03T01:14:43.882767Z"
        },
        "trusted": true,
        "id": "6D37XjoY82W4"
      },
      "execution_count": 39,
      "outputs": []
    },
    {
      "cell_type": "markdown",
      "source": [],
      "metadata": {
        "id": "5TZ1Q-1Y82W5"
      }
    },
    {
      "cell_type": "code",
      "source": [
        "# import tensorflow._api.v2.compat.v1 as tf\n",
        "\n",
        "# tf.disable_v2_behavior()"
      ],
      "metadata": {
        "execution": {
          "iopub.status.busy": "2023-01-03T01:14:44.468917Z",
          "iopub.execute_input": "2023-01-03T01:14:44.469266Z",
          "iopub.status.idle": "2023-01-03T01:14:44.474961Z",
          "shell.execute_reply.started": "2023-01-03T01:14:44.469235Z",
          "shell.execute_reply": "2023-01-03T01:14:44.473675Z"
        },
        "trusted": true,
        "id": "DyI4MT3u82W6"
      },
      "execution_count": 40,
      "outputs": []
    },
    {
      "cell_type": "code",
      "source": [
        "model.load_weights('/content/drive/MyDrive/3d_unet_VAE/new_weights/3d_unet_VAE_weights')"
      ],
      "metadata": {
        "colab": {
          "base_uri": "https://localhost:8080/"
        },
        "id": "Ozh7SIjfrElu",
        "outputId": "39fce97a-c035-4852-b45d-d610941a5a1d"
      },
      "execution_count": 41,
      "outputs": [
        {
          "output_type": "execute_result",
          "data": {
            "text/plain": [
              "<tensorflow.python.training.tracking.util.CheckpointLoadStatus at 0x7f3ce0753e80>"
            ]
          },
          "metadata": {},
          "execution_count": 41
        }
      ]
    },
    {
      "cell_type": "code",
      "source": [
        "history = model.fit(train_img_datagen, validation_data=val_img_datagen, epochs=15,steps_per_epoch=len(X_train)//batch_size, validation_steps=len(X_test),callbacks=[model_checkpoint_callback])\n",
        "# ,steps_per_epoch=369 "
      ],
      "metadata": {
        "_uuid": "0a1e5cda-198f-400e-b20e-ebd4cdffad78",
        "_cell_guid": "bc5d4006-72eb-4029-baf2-fd37359f1080",
        "jupyter": {
          "outputs_hidden": false
        },
        "execution": {
          "iopub.status.busy": "2023-01-03T01:14:45.507298Z",
          "iopub.execute_input": "2023-01-03T01:14:45.508205Z",
          "iopub.status.idle": "2023-01-03T03:28:59.123416Z",
          "shell.execute_reply.started": "2023-01-03T01:14:45.508157Z",
          "shell.execute_reply": "2023-01-03T03:28:59.120953Z"
        },
        "trusted": true,
        "colab": {
          "base_uri": "https://localhost:8080/"
        },
        "id": "AOyDmoou82W6",
        "outputId": "76ab7822-a703-4916-e4cb-7932fe047c89"
      },
      "execution_count": 42,
      "outputs": [
        {
          "output_type": "stream",
          "name": "stdout",
          "text": [
            "Epoch 1/15\n",
            "332/332 [==============================] - ETA: 0s - batch: 165.5000 - size: 1.0000 - loss: -0.7940 - Dec_GT_Output_loss: -0.7955 - Dec_VAE_Output_loss: 0.0015 - Dec_GT_Output_dice_coefficient: 0.7955 - Dec_VAE_Output_dice_coefficient: 0.9121"
          ]
        },
        {
          "output_type": "stream",
          "name": "stderr",
          "text": [
            "/usr/local/lib/python3.8/dist-packages/keras/engine/training_v1.py:2045: UserWarning: `Model.state_updates` will be removed in a future version. This property should not be used in TensorFlow 2.0, as `updates` are applied automatically.\n",
            "  updates = self.state_updates\n"
          ]
        },
        {
          "output_type": "stream",
          "name": "stdout",
          "text": [
            "\b\b\b\b\b\b\b\b\b\b\b\b\b\b\b\b\b\b\b\b\b\b\b\b\b\b\b\b\b\b\b\b\b\b\b\b\b\b\b\b\b\b\b\b\b\b\b\b\b\b\b\b\b\b\b\b\b\b\b\b\b\b\b\b\b\b\b\b\b\b\b\b\b\b\b\b\b\b\b\b\b\b\b\b\b\b\b\b\b\b\b\b\b\b\b\b\b\b\b\b\b\b\b\b\b\b\b\b\b\b\b\b\b\b\b\b\b\b\b\b\b\b\b\b\b\b\b\b\b\b\b\b\b\b\b\b\b\b\b\b\b\b\b\b\b\b\b\b\b\b\b\b\b\b\b\b\b\b\b\b\b\b\b\b\b\b\b\b\b\b\b\b\b\b\b\b\b\b\b\b\b\b\b\b\b\b\b\b\b\b\b\b\b\b\b\b\b\b\b\b\b\b\b\b\b\b\b\b\b\b\b\b\b\b\b\b\b\b\b\b\b\b\b\b\b\b\b\b\b\b\b\b\b\b\b\b\b\b\b\b\b\b\r332/332 [==============================] - 1380s 4s/step - batch: 165.5000 - size: 1.0000 - loss: -0.7940 - Dec_GT_Output_loss: -0.7955 - Dec_VAE_Output_loss: 0.0015 - Dec_GT_Output_dice_coefficient: 0.7955 - Dec_VAE_Output_dice_coefficient: 0.9121 - val_loss: -0.6932 - val_Dec_GT_Output_loss: -0.6947 - val_Dec_VAE_Output_loss: 0.0015 - val_Dec_GT_Output_dice_coefficient: 0.6947 - val_Dec_VAE_Output_dice_coefficient: 0.9056\n",
            "Epoch 2/15\n",
            "332/332 [==============================] - 1204s 4s/step - batch: 165.5000 - size: 1.0000 - loss: -0.8031 - Dec_GT_Output_loss: -0.8045 - Dec_VAE_Output_loss: 0.0015 - Dec_GT_Output_dice_coefficient: 0.8045 - Dec_VAE_Output_dice_coefficient: 0.9114 - val_loss: -0.6872 - val_Dec_GT_Output_loss: -0.6888 - val_Dec_VAE_Output_loss: 0.0016 - val_Dec_GT_Output_dice_coefficient: 0.6888 - val_Dec_VAE_Output_dice_coefficient: 0.9037\n",
            "Epoch 3/15\n",
            "332/332 [==============================] - 1207s 4s/step - batch: 165.5000 - size: 1.0000 - loss: -0.8024 - Dec_GT_Output_loss: -0.8038 - Dec_VAE_Output_loss: 0.0015 - Dec_GT_Output_dice_coefficient: 0.8038 - Dec_VAE_Output_dice_coefficient: 0.9126 - val_loss: -0.6964 - val_Dec_GT_Output_loss: -0.6982 - val_Dec_VAE_Output_loss: 0.0018 - val_Dec_GT_Output_dice_coefficient: 0.6982 - val_Dec_VAE_Output_dice_coefficient: 0.8781\n",
            "Epoch 4/15\n",
            "332/332 [==============================] - 1204s 4s/step - batch: 165.5000 - size: 1.0000 - loss: -0.8052 - Dec_GT_Output_loss: -0.8066 - Dec_VAE_Output_loss: 0.0014 - Dec_GT_Output_dice_coefficient: 0.8066 - Dec_VAE_Output_dice_coefficient: 0.9157 - val_loss: -0.7120 - val_Dec_GT_Output_loss: -0.7138 - val_Dec_VAE_Output_loss: 0.0019 - val_Dec_GT_Output_dice_coefficient: 0.7138 - val_Dec_VAE_Output_dice_coefficient: 0.8613\n",
            "Epoch 5/15\n",
            "332/332 [==============================] - 1200s 4s/step - batch: 165.5000 - size: 1.0000 - loss: -0.8130 - Dec_GT_Output_loss: -0.8145 - Dec_VAE_Output_loss: 0.0014 - Dec_GT_Output_dice_coefficient: 0.8145 - Dec_VAE_Output_dice_coefficient: 0.9141 - val_loss: -0.7035 - val_Dec_GT_Output_loss: -0.7055 - val_Dec_VAE_Output_loss: 0.0020 - val_Dec_GT_Output_dice_coefficient: 0.7055 - val_Dec_VAE_Output_dice_coefficient: 0.8515\n",
            "Epoch 6/15\n",
            "332/332 [==============================] - 1202s 4s/step - batch: 165.5000 - size: 1.0000 - loss: -0.8168 - Dec_GT_Output_loss: -0.8182 - Dec_VAE_Output_loss: 0.0014 - Dec_GT_Output_dice_coefficient: 0.8182 - Dec_VAE_Output_dice_coefficient: 0.9169 - val_loss: -0.7062 - val_Dec_GT_Output_loss: -0.7082 - val_Dec_VAE_Output_loss: 0.0020 - val_Dec_GT_Output_dice_coefficient: 0.7082 - val_Dec_VAE_Output_dice_coefficient: 0.8400\n",
            "Epoch 7/15\n",
            "332/332 [==============================] - 1208s 4s/step - batch: 165.5000 - size: 1.0000 - loss: -0.8177 - Dec_GT_Output_loss: -0.8190 - Dec_VAE_Output_loss: 0.0013 - Dec_GT_Output_dice_coefficient: 0.8190 - Dec_VAE_Output_dice_coefficient: 0.9197 - val_loss: -0.7036 - val_Dec_GT_Output_loss: -0.7056 - val_Dec_VAE_Output_loss: 0.0020 - val_Dec_GT_Output_dice_coefficient: 0.7056 - val_Dec_VAE_Output_dice_coefficient: 0.8478\n",
            "Epoch 8/15\n",
            "332/332 [==============================] - 1210s 4s/step - batch: 165.5000 - size: 1.0000 - loss: -0.8221 - Dec_GT_Output_loss: -0.8234 - Dec_VAE_Output_loss: 0.0013 - Dec_GT_Output_dice_coefficient: 0.8234 - Dec_VAE_Output_dice_coefficient: 0.9226 - val_loss: -0.7095 - val_Dec_GT_Output_loss: -0.7113 - val_Dec_VAE_Output_loss: 0.0018 - val_Dec_GT_Output_dice_coefficient: 0.7113 - val_Dec_VAE_Output_dice_coefficient: 0.8640\n",
            "Epoch 9/15\n",
            "332/332 [==============================] - 1208s 4s/step - batch: 165.5000 - size: 1.0000 - loss: -0.8246 - Dec_GT_Output_loss: -0.8258 - Dec_VAE_Output_loss: 0.0013 - Dec_GT_Output_dice_coefficient: 0.8258 - Dec_VAE_Output_dice_coefficient: 0.9254 - val_loss: -0.7100 - val_Dec_GT_Output_loss: -0.7118 - val_Dec_VAE_Output_loss: 0.0018 - val_Dec_GT_Output_dice_coefficient: 0.7118 - val_Dec_VAE_Output_dice_coefficient: 0.8634\n",
            "Epoch 10/15\n",
            "332/332 [==============================] - 1208s 4s/step - batch: 165.5000 - size: 1.0000 - loss: -0.8252 - Dec_GT_Output_loss: -0.8264 - Dec_VAE_Output_loss: 0.0013 - Dec_GT_Output_dice_coefficient: 0.8264 - Dec_VAE_Output_dice_coefficient: 0.9253 - val_loss: -0.7072 - val_Dec_GT_Output_loss: -0.7093 - val_Dec_VAE_Output_loss: 0.0021 - val_Dec_GT_Output_dice_coefficient: 0.7093 - val_Dec_VAE_Output_dice_coefficient: 0.8301\n",
            "Epoch 11/15\n",
            "332/332 [==============================] - 1208s 4s/step - batch: 165.5000 - size: 1.0000 - loss: -0.8289 - Dec_GT_Output_loss: -0.8302 - Dec_VAE_Output_loss: 0.0012 - Dec_GT_Output_dice_coefficient: 0.8302 - Dec_VAE_Output_dice_coefficient: 0.9261 - val_loss: -0.7097 - val_Dec_GT_Output_loss: -0.7115 - val_Dec_VAE_Output_loss: 0.0018 - val_Dec_GT_Output_dice_coefficient: 0.7115 - val_Dec_VAE_Output_dice_coefficient: 0.8590\n",
            "Epoch 12/15\n",
            "332/332 [==============================] - 1204s 4s/step - batch: 165.5000 - size: 1.0000 - loss: -0.8326 - Dec_GT_Output_loss: -0.8338 - Dec_VAE_Output_loss: 0.0012 - Dec_GT_Output_dice_coefficient: 0.8338 - Dec_VAE_Output_dice_coefficient: 0.9286 - val_loss: -0.7043 - val_Dec_GT_Output_loss: -0.7061 - val_Dec_VAE_Output_loss: 0.0018 - val_Dec_GT_Output_dice_coefficient: 0.7061 - val_Dec_VAE_Output_dice_coefficient: 0.8575\n",
            "Epoch 13/15\n",
            "332/332 [==============================] - 1208s 4s/step - batch: 165.5000 - size: 1.0000 - loss: -0.8377 - Dec_GT_Output_loss: -0.8389 - Dec_VAE_Output_loss: 0.0012 - Dec_GT_Output_dice_coefficient: 0.8389 - Dec_VAE_Output_dice_coefficient: 0.9284 - val_loss: -0.7114 - val_Dec_GT_Output_loss: -0.7130 - val_Dec_VAE_Output_loss: 0.0016 - val_Dec_GT_Output_dice_coefficient: 0.7130 - val_Dec_VAE_Output_dice_coefficient: 0.8850\n",
            "Epoch 14/15\n",
            "332/332 [==============================] - 1205s 4s/step - batch: 165.5000 - size: 1.0000 - loss: -0.8389 - Dec_GT_Output_loss: -0.8400 - Dec_VAE_Output_loss: 0.0012 - Dec_GT_Output_dice_coefficient: 0.8400 - Dec_VAE_Output_dice_coefficient: 0.9300 - val_loss: -0.7038 - val_Dec_GT_Output_loss: -0.7055 - val_Dec_VAE_Output_loss: 0.0018 - val_Dec_GT_Output_dice_coefficient: 0.7055 - val_Dec_VAE_Output_dice_coefficient: 0.8647\n",
            "Epoch 15/15\n",
            "332/332 [==============================] - 1209s 4s/step - batch: 165.5000 - size: 1.0000 - loss: -0.8408 - Dec_GT_Output_loss: -0.8419 - Dec_VAE_Output_loss: 0.0012 - Dec_GT_Output_dice_coefficient: 0.8419 - Dec_VAE_Output_dice_coefficient: 0.9302 - val_loss: -0.7084 - val_Dec_GT_Output_loss: -0.7100 - val_Dec_VAE_Output_loss: 0.0016 - val_Dec_GT_Output_dice_coefficient: 0.7100 - val_Dec_VAE_Output_dice_coefficient: 0.8800\n"
          ]
        }
      ]
    },
    {
      "cell_type": "markdown",
      "source": [
        "### Evaluation"
      ],
      "metadata": {
        "id": "fVo7NVh32UxE"
      }
    },
    {
      "cell_type": "code",
      "source": [
        "results=  model.evaluate(val_img_datagen,steps=len(X_test))\n",
        "print(results)"
      ],
      "metadata": {
        "colab": {
          "base_uri": "https://localhost:8080/"
        },
        "id": "fYQMFv302UfV",
        "outputId": "d46c3347-f255-4b15-f9f3-9cbd110db53b"
      },
      "execution_count": 159,
      "outputs": [
        {
          "output_type": "stream",
          "name": "stdout",
          "text": [
            "[-0.7083770793837469, -0.70999795, 0.0016208108, 0.70999795, 0.8810073]\n"
          ]
        }
      ]
    },
    {
      "cell_type": "code",
      "source": [
        "print(X_test[13])\n",
        "print(y_test[13])\n",
        "inferance_vol=[X_test[13]]\n",
        "inferance_mask=[y_test[13]]"
      ],
      "metadata": {
        "id": "-hWdli39nSjL",
        "colab": {
          "base_uri": "https://localhost:8080/"
        },
        "outputId": "f25c1b0f-9457-4130-e174-13540b16bbd4"
      },
      "execution_count": 126,
      "outputs": [
        {
          "output_type": "stream",
          "name": "stdout",
          "text": [
            "/content/drive/MyDrive/Brats_2020_dataset/BraTS2020_TrainingData/MICCAI_BraTS2020_TrainingData/BraTS20_Training_056/BraTS20_Training_056_t1ce.nii\n",
            "/content/drive/MyDrive/Brats_2020_dataset/BraTS2020_TrainingData/MICCAI_BraTS2020_TrainingData/BraTS20_Training_056/BraTS20_Training_056_seg.nii\n"
          ]
        }
      ]
    },
    {
      "cell_type": "code",
      "source": [
        "train_img_datagen = imageLoader(inferance_vol,inferance_mask, batch_size)"
      ],
      "metadata": {
        "id": "cDYZZWC6uIT6"
      },
      "execution_count": 127,
      "outputs": []
    },
    {
      "cell_type": "code",
      "source": [
        "x,y = train_img_datagen.__next__()"
      ],
      "metadata": {
        "id": "iI3uKuZCucCb"
      },
      "execution_count": 128,
      "outputs": []
    },
    {
      "cell_type": "code",
      "source": [
        "x= np.squeeze(x)\n",
        "y= np.squeeze(y['Dec_GT_Output'])\n",
        "y=np.moveaxis(y,0,-1)\n",
        "y=np.argmax(y,axis=-1)\n",
        "y.shape"
      ],
      "metadata": {
        "colab": {
          "base_uri": "https://localhost:8080/"
        },
        "id": "7gGugOwaunmN",
        "outputId": "1fe4f0fa-90ef-4e9e-b977-1823fa00c4ba"
      },
      "execution_count": 129,
      "outputs": [
        {
          "output_type": "execute_result",
          "data": {
            "text/plain": [
              "(128, 128, 128)"
            ]
          },
          "metadata": {},
          "execution_count": 129
        }
      ]
    },
    {
      "cell_type": "code",
      "source": [
        "pred = model.predict(x[np.newaxis,np.newaxis,...])"
      ],
      "metadata": {
        "id": "S2z_9MYncCot",
        "colab": {
          "base_uri": "https://localhost:8080/"
        },
        "outputId": "2d06df9c-7d63-4f69-a67c-78debd0d458d"
      },
      "execution_count": 132,
      "outputs": [
        {
          "output_type": "stream",
          "name": "stderr",
          "text": [
            "/usr/local/lib/python3.8/dist-packages/keras/engine/training_v1.py:2067: UserWarning: `Model.state_updates` will be removed in a future version. This property should not be used in TensorFlow 2.0, as `updates` are applied automatically.\n",
            "  updates=self.state_updates,\n"
          ]
        }
      ]
    },
    {
      "cell_type": "code",
      "source": [
        "len(pred)"
      ],
      "metadata": {
        "colab": {
          "base_uri": "https://localhost:8080/"
        },
        "id": "XA2-87NxwQc2",
        "outputId": "57c58cda-d150-4ce2-9404-531d6227a6ed"
      },
      "execution_count": 135,
      "outputs": [
        {
          "output_type": "execute_result",
          "data": {
            "text/plain": [
              "2"
            ]
          },
          "metadata": {},
          "execution_count": 135
        }
      ]
    },
    {
      "cell_type": "code",
      "source": [
        "pred_mask= pred[0]\n",
        "pred_image=pred[1]"
      ],
      "metadata": {
        "id": "jfm7SPHRwe7T"
      },
      "execution_count": 151,
      "outputs": []
    },
    {
      "cell_type": "code",
      "source": [
        "print(pred_mask.shape)\n",
        "print(pred_image.shape)\n"
      ],
      "metadata": {
        "colab": {
          "base_uri": "https://localhost:8080/"
        },
        "id": "wNZrBuMdwoWw",
        "outputId": "5ce47498-e60b-4c3b-c59f-2c8001ee998f"
      },
      "execution_count": 152,
      "outputs": [
        {
          "output_type": "stream",
          "name": "stdout",
          "text": [
            "(1, 4, 128, 128, 128)\n",
            "(1, 1, 128, 128, 128)\n"
          ]
        }
      ]
    },
    {
      "cell_type": "code",
      "source": [
        "pred_mask= np.squeeze(pred_mask)\n",
        "pred_mask=np.moveaxis(pred_mask,0,-1)\n",
        "pred_mask=np.argmax(pred_mask,axis=-1)\n",
        "pred_mask.shape\n",
        "\n",
        "pred_image= np.squeeze(pred_image)\n",
        "pred_image=np.moveaxis(pred_image,0,-1)\n",
        "# pred_image=np.argmax(pred_image,axis=-1)\n",
        "pred_image.shape"
      ],
      "metadata": {
        "colab": {
          "base_uri": "https://localhost:8080/"
        },
        "id": "4obPr7V6wusW",
        "outputId": "595b8537-26e3-4139-8736-40e5d3250e0f"
      },
      "execution_count": 153,
      "outputs": [
        {
          "output_type": "execute_result",
          "data": {
            "text/plain": [
              "(128, 128, 128)"
            ]
          },
          "metadata": {},
          "execution_count": 153
        }
      ]
    },
    {
      "cell_type": "code",
      "source": [
        "n_slice=80\n",
        "plt.figure(figsize=(12, 8))\n",
        "plt.subplot(231)\n",
        "plt.imshow(x[:,:,n_slice], cmap='gray')\n",
        "plt.title('Image t1ce')\n",
        "plt.subplot(232)\n",
        "plt.imshow(y[:,:,n_slice])\n",
        "print(y[:,:,n_slice].shape)\n",
        "plt.title('Mask')\n",
        "plt.subplot(233)\n",
        "plt.imshow(pred_mask[:,:,n_slice])\n",
        "plt.title('prediction_mask')\n",
        "plt.subplot(234)\n",
        "plt.imshow(pred_image[:,:,n_slice])\n",
        "plt.title('prediction_image')\n",
        "plt.show()"
      ],
      "metadata": {
        "colab": {
          "base_uri": "https://localhost:8080/",
          "height": 515
        },
        "id": "Y4hsFIBDw4Y8",
        "outputId": "f129b21a-17fd-4a34-bad5-7a9442c06113"
      },
      "execution_count": 156,
      "outputs": [
        {
          "output_type": "stream",
          "name": "stdout",
          "text": [
            "(128, 128)\n"
          ]
        },
        {
          "output_type": "display_data",
          "data": {
            "text/plain": [
              "<Figure size 864x576 with 4 Axes>"
            ],
            "image/png": "[encoded data removed]"
          },
          "metadata": {
            "needs_background": "light"
          }
        }
      ]
    },
    {
      "cell_type": "code",
      "source": [],
      "metadata": {
        "id": "p_46Gn_1xHoh"
      },
      "execution_count": 154,
      "outputs": []
    }
  ]
}